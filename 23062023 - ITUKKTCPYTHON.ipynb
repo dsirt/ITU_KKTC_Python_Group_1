{
 "cells": [
  {
   "cell_type": "code",
   "execution_count": 1,
   "id": "7feb6df5",
   "metadata": {},
   "outputs": [],
   "source": [
    "#Open a file"
   ]
  },
  {
   "cell_type": "code",
   "execution_count": 2,
   "id": "be89275d",
   "metadata": {},
   "outputs": [],
   "source": [
    "fileobj = open('mytest1.txt', 'w')"
   ]
  },
  {
   "cell_type": "code",
   "execution_count": 3,
   "id": "8b0c6d66",
   "metadata": {},
   "outputs": [],
   "source": [
    "fileobj.write(\"Now is the time\")\n",
    "fileobj.write(\" to close the file\")\n",
    "fileobj.close()"
   ]
  },
  {
   "cell_type": "code",
   "execution_count": 5,
   "id": "73c08116",
   "metadata": {},
   "outputs": [],
   "source": [
    "fileobj = open('mytest1.txt', 'a')\n",
    "fileobj.write('Python generators are easy way of creating iterators. It generates values one at a time from a given sequence instead of returning the entire sequence at once.\\nIt is a special type of function which returns an iterator object.\\nIn a generator function, a yield statement is used rather than a return statement.\\nThe generator function cannot include the return keyword. If we include it then it will terminate the execution of the function.\\nThe difference between yield and return is that once yield returns a value the function is paused and the control is transferred to the caller.Local variables and their states are remembered between successive calls. In case of the return statement value is returned and the execution of the function is terminated.\\nMethods like _iter()_ and _next()_ are implemented automatically in generator function.\\nSimple generators can be easily created using generator expressions. Generator expressions create anonymous generator functions like lambda.\\nThe syntax for generator expression is similar to that of a list comprehension but the only difference is square brackets are replaced with round parentheses. Also list comprehension produces the entire list while the generator expression produces one item at a time which is more memory efficient than list comprehension.')\n",
    "fileobj.close()"
   ]
  },
  {
   "cell_type": "code",
   "execution_count": 7,
   "id": "a33706d9",
   "metadata": {},
   "outputs": [
    {
     "data": {
      "text/plain": [
       "'Now is the time to close the filePython generators are easy way of creating iterators. It generates values one at a time from a given sequence instead of returning the entire sequence at once.\\nIt is a special type of function which returns an iterator object.\\nIn a generator function, a yield statement is used rather than a return statement.\\nThe generator function cannot include the return keyword. If we include it then it will terminate the execution of the function.\\nThe difference between yield and return is that once yield returns a value the function is paused and the control is transferred to the caller.Local variables and their states are remembered between successive calls. In case of the return statement value is returned and the execution of the function is terminated.\\nMethods like __iter()__ and __next()__ are implemented automatically in generator function.\\nSimple generators can be easily created using generator expressions. Generator expressions create anonymous generator functions like lambda.\\nThe syntax for generator expression is similar to that of a list comprehension but the only difference is square brackets are replaced with round parenthesesPython generators are easy way of creating iterators. It generates values one at a time from a given sequence instead of returning the entire sequence at once.\\nIt is a special type of function which returns an iterator object.\\nIn a generator function, a yield statement is used rather than a return statement.\\nThe generator function cannot include the return keyword. If we include it then it will terminate the execution of the function.\\nThe difference between yield and return is that once yield returns a value the function is paused and the control is transferred to the caller.Local variables and their states are remembered between successive calls. In case of the return statement value is returned and the execution of the function is terminated.\\nMethods like _iter()_ and _next()_ are implemented automatically in generator function.\\nSimple generators can be easily created using generator expressions. Generator expressions create anonymous generator functions like lambda.\\nThe syntax for generator expression is similar to that of a list comprehension but the only difference is square brackets are replaced with round parentheses. Also list comprehension produces the entire list while the generator expression produces one item at a time which is more memory efficient than list comprehension.'"
      ]
     },
     "execution_count": 7,
     "metadata": {},
     "output_type": "execute_result"
    }
   ],
   "source": [
    "fileobj = open('mytest1.txt', 'r')\n",
    "fileobj.read()"
   ]
  },
  {
   "cell_type": "code",
   "execution_count": 8,
   "id": "677c43e2",
   "metadata": {},
   "outputs": [
    {
     "data": {
      "text/plain": [
       "''"
      ]
     },
     "execution_count": 8,
     "metadata": {},
     "output_type": "execute_result"
    }
   ],
   "source": [
    "fileobj.read()"
   ]
  },
  {
   "cell_type": "code",
   "execution_count": 9,
   "id": "b435a2f2",
   "metadata": {},
   "outputs": [
    {
     "data": {
      "text/plain": [
       "'Now is the time to close the filePython generators are easy way of creating iterators. It generates values one at a time from a given sequence instead of returning the entire sequence at once.\\nIt is a special type of function which returns an iterator object.\\nIn a generator function, a yield statement is used rather than a return statement.\\nThe generator function cannot include the return keyword. If we include it then it will terminate the execution of the function.\\nThe difference between yield and return is that once yield returns a value the function is paused and the control is transferred to the caller.Local variables and their states are remembered between successive calls. In case of the return statement value is returned and the execution of the function is terminated.\\nMethods like __iter()__ and __next()__ are implemented automatically in generator function.\\nSimple generators can be easily created using generator expressions. Generator expressions create anonymous generator functions like lambda.\\nThe syntax for generator expression is similar to that of a list comprehension but the only difference is square brackets are replaced with round parenthesesPython generators are easy way of creating iterators. It generates values one at a time from a given sequence instead of returning the entire sequence at once.\\nIt is a special type of function which returns an iterator object.\\nIn a generator function, a yield statement is used rather than a return statement.\\nThe generator function cannot include the return keyword. If we include it then it will terminate the execution of the function.\\nThe difference between yield and return is that once yield returns a value the function is paused and the control is transferred to the caller.Local variables and their states are remembered between successive calls. In case of the return statement value is returned and the execution of the function is terminated.\\nMethods like _iter()_ and _next()_ are implemented automatically in generator function.\\nSimple generators can be easily created using generator expressions. Generator expressions create anonymous generator functions like lambda.\\nThe syntax for generator expression is similar to that of a list comprehension but the only difference is square brackets are replaced with round parentheses. Also list comprehension produces the entire list while the generator expression produces one item at a time which is more memory efficient than list comprehension.'"
      ]
     },
     "execution_count": 9,
     "metadata": {},
     "output_type": "execute_result"
    }
   ],
   "source": [
    "fileobj.seek(0)\n",
    "fileobj.read()"
   ]
  },
  {
   "cell_type": "code",
   "execution_count": 11,
   "id": "9f2480af",
   "metadata": {},
   "outputs": [
    {
     "data": {
      "text/plain": [
       "'generators are easy way of creating iterators. It generates values one at a time from a given sequence instead of returning the entire sequence at once.\\nIt is a special type of function which returns an iterator object.\\nIn a generator function, a yield statement is used rather than a return statement.\\nThe generator function cannot include the return keyword. If we include it then it will terminate the execution of the function.\\nThe difference between yield and return is that once yield returns a value the function is paused and the control is transferred to the caller.Local variables and their states are remembered between successive calls. In case of the return statement value is returned and the execution of the function is terminated.\\nMethods like __iter()__ and __next()__ are implemented automatically in generator function.\\nSimple generators can be easily created using generator expressions. Generator expressions create anonymous generator functions like lambda.\\nThe syntax for generator expression is similar to that of a list comprehension but the only difference is square brackets are replaced with round parenthesesPython generators are easy way of creating iterators. It generates values one at a time from a given sequence instead of returning the entire sequence at once.\\nIt is a special type of function which returns an iterator object.\\nIn a generator function, a yield statement is used rather than a return statement.\\nThe generator function cannot include the return keyword. If we include it then it will terminate the execution of the function.\\nThe difference between yield and return is that once yield returns a value the function is paused and the control is transferred to the caller.Local variables and their states are remembered between successive calls. In case of the return statement value is returned and the execution of the function is terminated.\\nMethods like _iter()_ and _next()_ are implemented automatically in generator function.\\nSimple generators can be easily created using generator expressions. Generator expressions create anonymous generator functions like lambda.\\nThe syntax for generator expression is similar to that of a list comprehension but the only difference is square brackets are replaced with round parentheses. Also list comprehension produces the entire list while the generator expression produces one item at a time which is more memory efficient than list comprehension.'"
      ]
     },
     "execution_count": 11,
     "metadata": {},
     "output_type": "execute_result"
    }
   ],
   "source": [
    "fileobj.seek(40)\n",
    "fileobj.read()"
   ]
  },
  {
   "cell_type": "code",
   "execution_count": 13,
   "id": "cbe557ed",
   "metadata": {},
   "outputs": [
    {
     "data": {
      "text/plain": [
       "'Now is the time to close the filePython generators are'"
      ]
     },
     "execution_count": 13,
     "metadata": {},
     "output_type": "execute_result"
    }
   ],
   "source": [
    "fileobj.seek(0)\n",
    "\n",
    "fileobj.read(54)"
   ]
  },
  {
   "cell_type": "code",
   "execution_count": 14,
   "id": "7deb11cf",
   "metadata": {},
   "outputs": [
    {
     "data": {
      "text/plain": [
       "54"
      ]
     },
     "execution_count": 14,
     "metadata": {},
     "output_type": "execute_result"
    }
   ],
   "source": [
    "fileobj.tell()"
   ]
  },
  {
   "cell_type": "code",
   "execution_count": 15,
   "id": "79f6cf61",
   "metadata": {},
   "outputs": [
    {
     "name": "stdout",
     "output_type": "stream",
     "text": [
      "Now is the time to close the filePython generators are easy way of creating iterators. It generates values one at a time from a given sequence instead of returning the entire sequence at once.\n",
      "\n",
      "It is a special type of function which returns an iterator object.\n",
      "\n",
      "In a generator function, a yield statement is used rather than a return statement.\n",
      "\n"
     ]
    }
   ],
   "source": [
    "fileobj.seek(0)\n",
    "\n",
    "print(fileobj.readline())\n",
    "print(fileobj.readline())\n",
    "print(fileobj.readline())"
   ]
  },
  {
   "cell_type": "code",
   "execution_count": 17,
   "id": "7c9ada46",
   "metadata": {},
   "outputs": [
    {
     "data": {
      "text/plain": [
       "['Now is the time to close the filePython generators are easy way of creating iterators. It generates values one at a time from a given sequence instead of returning the entire sequence at once.\\n',\n",
       " 'It is a special type of function which returns an iterator object.\\n',\n",
       " 'In a generator function, a yield statement is used rather than a return statement.\\n',\n",
       " 'The generator function cannot include the return keyword. If we include it then it will terminate the execution of the function.\\n',\n",
       " 'The difference between yield and return is that once yield returns a value the function is paused and the control is transferred to the caller.Local variables and their states are remembered between successive calls. In case of the return statement value is returned and the execution of the function is terminated.\\n',\n",
       " 'Methods like __iter()__ and __next()__ are implemented automatically in generator function.\\n',\n",
       " 'Simple generators can be easily created using generator expressions. Generator expressions create anonymous generator functions like lambda.\\n',\n",
       " 'The syntax for generator expression is similar to that of a list comprehension but the only difference is square brackets are replaced with round parenthesesPython generators are easy way of creating iterators. It generates values one at a time from a given sequence instead of returning the entire sequence at once.\\n',\n",
       " 'It is a special type of function which returns an iterator object.\\n',\n",
       " 'In a generator function, a yield statement is used rather than a return statement.\\n',\n",
       " 'The generator function cannot include the return keyword. If we include it then it will terminate the execution of the function.\\n',\n",
       " 'The difference between yield and return is that once yield returns a value the function is paused and the control is transferred to the caller.Local variables and their states are remembered between successive calls. In case of the return statement value is returned and the execution of the function is terminated.\\n',\n",
       " 'Methods like _iter()_ and _next()_ are implemented automatically in generator function.\\n',\n",
       " 'Simple generators can be easily created using generator expressions. Generator expressions create anonymous generator functions like lambda.\\n',\n",
       " 'The syntax for generator expression is similar to that of a list comprehension but the only difference is square brackets are replaced with round parentheses. Also list comprehension produces the entire list while the generator expression produces one item at a time which is more memory efficient than list comprehension.']"
      ]
     },
     "execution_count": 17,
     "metadata": {},
     "output_type": "execute_result"
    }
   ],
   "source": [
    "fileobj.seek(0)\n",
    "\n",
    "fileobj.readlines()"
   ]
  },
  {
   "cell_type": "code",
   "execution_count": 18,
   "id": "3256cae1",
   "metadata": {},
   "outputs": [
    {
     "name": "stdout",
     "output_type": "stream",
     "text": [
      "Now is the time to close the filePython generators are easy way of creating iterators. It generates values one at a time from a given sequence instead of returning the entire sequence at once.\n",
      "\n",
      "It is a special type of function which returns an iterator object.\n",
      "\n",
      "In a generator function, a yield statement is used rather than a return statement.\n",
      "\n",
      "The generator function cannot include the return keyword. If we include it then it will terminate the execution of the function.\n",
      "\n",
      "The difference between yield and return is that once yield returns a value the function is paused and the control is transferred to the caller.Local variables and their states are remembered between successive calls. In case of the return statement value is returned and the execution of the function is terminated.\n",
      "\n"
     ]
    }
   ],
   "source": [
    "fileobj.seek(0)\n",
    "\n",
    "count = 0\n",
    "for i in range(5):\n",
    "    if(count < 5):\n",
    "        print(fileobj.readline())\n",
    "    else:\n",
    "        break\n",
    "    count = count + 1 #count += 1"
   ]
  },
  {
   "cell_type": "code",
   "execution_count": 20,
   "id": "4a827309",
   "metadata": {},
   "outputs": [
    {
     "name": "stdout",
     "output_type": "stream",
     "text": [
      "Now is the time to close the filePython generators are easy way of creating iterators. It generates values one at a time from a given sequence instead of returning the entire sequence at once.\n",
      "\n",
      "It is a special type of function which returns an iterator object.\n",
      "\n",
      "In a generator function, a yield statement is used rather than a return statement.\n",
      "\n",
      "The generator function cannot include the return keyword. If we include it then it will terminate the execution of the function.\n",
      "\n",
      "The difference between yield and return is that once yield returns a value the function is paused and the control is transferred to the caller.Local variables and their states are remembered between successive calls. In case of the return statement value is returned and the execution of the function is terminated.\n",
      "\n"
     ]
    }
   ],
   "source": [
    "fileobj.seek(0)\n",
    "\n",
    "count = 0\n",
    "for i in fileobj.readlines():\n",
    "    if (count < 5):\n",
    "        print(i)\n",
    "    else:\n",
    "        break\n",
    "    count = count + 1"
   ]
  },
  {
   "cell_type": "code",
   "execution_count": 21,
   "id": "5b9d14ba",
   "metadata": {},
   "outputs": [],
   "source": [
    "#write"
   ]
  },
  {
   "cell_type": "code",
   "execution_count": 23,
   "id": "2f82175a",
   "metadata": {},
   "outputs": [
    {
     "data": {
      "text/plain": [
       "'Now is the time to close the filePython generators are easy way of creating iterators. It generates values one at a time from a given sequence instead of returning the entire sequence at once.\\nIt is a special type of function which returns an iterator object.\\nIn a generator function, a yield statement is used rather than a return statement.\\nThe generator function cannot include the return keyword. If we include it then it will terminate the execution of the function.\\nThe difference between yield and return is that once yield returns a value the function is paused and the control is transferred to the caller.Local variables and their states are remembered between successive calls. In case of the return statement value is returned and the execution of the function is terminated.\\nMethods like __iter()__ and __next()__ are implemented automatically in generator function.\\nSimple generators can be easily created using generator expressions. Generator expressions create anonymous generator functions like lambda.\\nThe syntax for generator expression is similar to that of a list comprehension but the only difference is square brackets are replaced with round parenthesesPython generators are easy way of creating iterators. It generates values one at a time from a given sequence instead of returning the entire sequence at once.\\nIt is a special type of function which returns an iterator object.\\nIn a generator function, a yield statement is used rather than a return statement.\\nThe generator function cannot include the return keyword. If we include it then it will terminate the execution of the function.\\nThe difference between yield and return is that once yield returns a value the function is paused and the control is transferred to the caller.Local variables and their states are remembered between successive calls. In case of the return statement value is returned and the execution of the function is terminated.\\nMethods like _iter()_ and _next()_ are implemented automatically in generator function.\\nSimple generators can be easily created using generator expressions. Generator expressions create anonymous generator functions like lambda.\\nThe syntax for generator expression is similar to that of a list comprehension but the only difference is square brackets are replaced with round parentheses. Also list comprehension produces the entire list while the generator expression produces one item at a time which is more memory efficient than list comprehension.THIS IS THE NEW CONTENT APPENDED IN THE FILE'"
      ]
     },
     "execution_count": 23,
     "metadata": {},
     "output_type": "execute_result"
    }
   ],
   "source": [
    "fileobj = open('mytest1.txt', 'a')\n",
    "\n",
    "fileobj.write('THIS IS THE NEW CONTENT APPENDED IN THE FILE')\n",
    "\n",
    "fileobj.close()\n",
    "\n",
    "fileobj = open('mytest1.txt')\n",
    "\n",
    "fileobj.read()"
   ]
  },
  {
   "cell_type": "code",
   "execution_count": 25,
   "id": "771f6231",
   "metadata": {},
   "outputs": [
    {
     "data": {
      "text/plain": [
       "'NEW CONTENT ADDED IN THE FILE. PREVIOUS CONTENT HAS BEEN OVERWRITTEN'"
      ]
     },
     "execution_count": 25,
     "metadata": {},
     "output_type": "execute_result"
    }
   ],
   "source": [
    "fileobj = open(\"mytest1.txt\", 'w')\n",
    "\n",
    "fileobj.write('NEW CONTENT ADDED IN THE FILE. PREVIOUS CONTENT HAS BEEN OVERWRITTEN')\n",
    "\n",
    "fileobj.close()\n",
    "\n",
    "fileobj = open('mytest1.txt')\n",
    "\n",
    "fileobj.read()"
   ]
  },
  {
   "cell_type": "code",
   "execution_count": 31,
   "id": "ed514fc8",
   "metadata": {},
   "outputs": [],
   "source": [
    "fileobj = open(\"mytest2.txt\", 'w')\n",
    "\n",
    "fileobj.write(\"First Line\\n\")\n",
    "fileobj.write(\"Second Line\\n\")\n",
    "fileobj.write(\"Third Line\\n\")\n",
    "fileobj.write(\"Fourth Line\\n\")\n",
    "fileobj.write(\"Fifth Line\\n\")\n",
    "fileobj.close()\n",
    "\n",
    "fileobj = open('mytest2.txt')\n",
    "\n",
    "fileobj.readlines()\n",
    "\n",
    "fileobj.close()"
   ]
  },
  {
   "cell_type": "code",
   "execution_count": 32,
   "id": "092350ff",
   "metadata": {},
   "outputs": [],
   "source": [
    "import os #operating system (OS)"
   ]
  },
  {
   "cell_type": "code",
   "execution_count": 33,
   "id": "f17740bc",
   "metadata": {},
   "outputs": [],
   "source": [
    "fileobj.close()\n",
    "\n",
    "os.remove(\"mytest2.txt\")"
   ]
  },
  {
   "cell_type": "code",
   "execution_count": 34,
   "id": "153d01f6",
   "metadata": {},
   "outputs": [
    {
     "ename": "FileNotFoundError",
     "evalue": "[WinError 2] Sistem belirtilen dosyayı bulamıyor: 'mytest2.txt'",
     "output_type": "error",
     "traceback": [
      "\u001b[1;31m---------------------------------------------------------------------------\u001b[0m",
      "\u001b[1;31mFileNotFoundError\u001b[0m                         Traceback (most recent call last)",
      "\u001b[1;32m~\\AppData\\Local\\Temp\\ipykernel_12312\\3245503772.py\u001b[0m in \u001b[0;36m<module>\u001b[1;34m\u001b[0m\n\u001b[1;32m----> 1\u001b[1;33m \u001b[0mos\u001b[0m\u001b[1;33m.\u001b[0m\u001b[0mremove\u001b[0m\u001b[1;33m(\u001b[0m\u001b[1;34m\"mytest2.txt\"\u001b[0m\u001b[1;33m)\u001b[0m\u001b[1;33m\u001b[0m\u001b[1;33m\u001b[0m\u001b[0m\n\u001b[0m",
      "\u001b[1;31mFileNotFoundError\u001b[0m: [WinError 2] Sistem belirtilen dosyayı bulamıyor: 'mytest2.txt'"
     ]
    }
   ],
   "source": [
    "os.remove(\"mytest2.txt\")"
   ]
  },
  {
   "cell_type": "code",
   "execution_count": 35,
   "id": "5a90ee47",
   "metadata": {},
   "outputs": [
    {
     "ename": "FileNotFoundError",
     "evalue": "[WinError 2] Sistem belirtilen dosyayı bulamıyor: 'folder1/'",
     "output_type": "error",
     "traceback": [
      "\u001b[1;31m---------------------------------------------------------------------------\u001b[0m",
      "\u001b[1;31mFileNotFoundError\u001b[0m                         Traceback (most recent call last)",
      "\u001b[1;32m~\\AppData\\Local\\Temp\\ipykernel_12312\\2334126862.py\u001b[0m in \u001b[0;36m<module>\u001b[1;34m\u001b[0m\n\u001b[1;32m----> 1\u001b[1;33m \u001b[0mos\u001b[0m\u001b[1;33m.\u001b[0m\u001b[0mrmdir\u001b[0m\u001b[1;33m(\u001b[0m\u001b[1;34m'folder1/'\u001b[0m\u001b[1;33m)\u001b[0m \u001b[1;31m#delete folder\u001b[0m\u001b[1;33m\u001b[0m\u001b[1;33m\u001b[0m\u001b[0m\n\u001b[0m",
      "\u001b[1;31mFileNotFoundError\u001b[0m: [WinError 2] Sistem belirtilen dosyayı bulamıyor: 'folder1/'"
     ]
    }
   ],
   "source": [
    "os.rmdir('folder1/') #delete folder"
   ]
  },
  {
   "cell_type": "code",
   "execution_count": 36,
   "id": "133a3071",
   "metadata": {},
   "outputs": [],
   "source": [
    "#Hata ve İstisna İşleme (Error and Exception Handling)"
   ]
  },
  {
   "cell_type": "code",
   "execution_count": 37,
   "id": "95875956",
   "metadata": {},
   "outputs": [],
   "source": [
    "#ArithmeticError, ZeroDivisionError, EOFError, IndexError, KeyError, SyntaxError, IndentationError, FileNotFoundError"
   ]
  },
  {
   "cell_type": "code",
   "execution_count": 38,
   "id": "1b101326",
   "metadata": {},
   "outputs": [],
   "source": [
    "#try-except-else-finally, raise anahtar sözcüğü ile kendi istisnalarımızı yaratırız"
   ]
  },
  {
   "cell_type": "code",
   "execution_count": 39,
   "id": "a76e6a7c",
   "metadata": {},
   "outputs": [],
   "source": [
    "import sys"
   ]
  },
  {
   "cell_type": "code",
   "execution_count": 40,
   "id": "bd864a38",
   "metadata": {},
   "outputs": [
    {
     "name": "stdout",
     "output_type": "stream",
     "text": [
      "division by zero exception occured\n",
      "Run this block of code always\n"
     ]
    }
   ],
   "source": [
    "try:\n",
    "    print(100/0)\n",
    "    \n",
    "except:\n",
    "    print(sys.exc_info()[1], 'exception occured')\n",
    "    \n",
    "else:\n",
    "    print('No exception occured')\n",
    "    \n",
    "finally:\n",
    "    print('Run this block of code always')"
   ]
  },
  {
   "cell_type": "code",
   "execution_count": 41,
   "id": "11929eff",
   "metadata": {},
   "outputs": [
    {
     "name": "stdout",
     "output_type": "stream",
     "text": [
      "Variable x is not defined\n"
     ]
    }
   ],
   "source": [
    "try:\n",
    "    print(x) #Name Error exception oluşur çünkü x tanımlı değildir. \n",
    "\n",
    "except:\n",
    "    print('Variable x is not defined')"
   ]
  },
  {
   "cell_type": "code",
   "execution_count": 42,
   "id": "1fe0a006",
   "metadata": {},
   "outputs": [
    {
     "ename": "NameError",
     "evalue": "name 'x' is not defined",
     "output_type": "error",
     "traceback": [
      "\u001b[1;31m---------------------------------------------------------------------------\u001b[0m",
      "\u001b[1;31mNameError\u001b[0m                                 Traceback (most recent call last)",
      "\u001b[1;32m~\\AppData\\Local\\Temp\\ipykernel_12312\\1353120783.py\u001b[0m in \u001b[0;36m<module>\u001b[1;34m\u001b[0m\n\u001b[1;32m----> 1\u001b[1;33m \u001b[0mprint\u001b[0m\u001b[1;33m(\u001b[0m\u001b[0mx\u001b[0m\u001b[1;33m)\u001b[0m\u001b[1;33m\u001b[0m\u001b[1;33m\u001b[0m\u001b[0m\n\u001b[0m",
      "\u001b[1;31mNameError\u001b[0m: name 'x' is not defined"
     ]
    }
   ],
   "source": [
    "print(x)"
   ]
  },
  {
   "cell_type": "code",
   "execution_count": 44,
   "id": "130c4bb3",
   "metadata": {},
   "outputs": [
    {
     "name": "stdout",
     "output_type": "stream",
     "text": [
      "BELOW EXCEPTION OCCURED\n",
      "[WinError 2] Sistem belirtilen dosyayı bulamıyor: 'mytest3.txt'\n",
      "\n",
      "Run this block of code always\n"
     ]
    }
   ],
   "source": [
    "try:\n",
    "    os.remove('mytest3.txt') #FileNotFoundError \n",
    "    \n",
    "except:\n",
    "    print('BELOW EXCEPTION OCCURED')\n",
    "    print(sys.exc_info()[1])\n",
    "    \n",
    "else:\n",
    "    print('\\nNo exception occured')\n",
    "    \n",
    "finally:\n",
    "    print('\\nRun this block of code always')"
   ]
  },
  {
   "cell_type": "code",
   "execution_count": 45,
   "id": "16319d00",
   "metadata": {},
   "outputs": [
    {
     "name": "stdout",
     "output_type": "stream",
     "text": [
      "Enter first number :- 12\n",
      "Enter second number :- 13\n",
      "0.9230769230769231\n",
      "FileNotFoundError exception occured\n"
     ]
    }
   ],
   "source": [
    "try:\n",
    "    x = int(input('Enter first number :- '))\n",
    "    y = int(input('Enter second number :- '))\n",
    "    print(x/y)\n",
    "    os.remove(\"mytest3.txt\")\n",
    "    \n",
    "except NameError:\n",
    "    print('NameError exception occured')\n",
    "    \n",
    "except FileNotFoundError:\n",
    "    print('FileNotFoundError exception occured')\n",
    "    \n",
    "except ZeroDivisionError:\n",
    "    print('ZeroDivisionError exception occured')"
   ]
  },
  {
   "cell_type": "code",
   "execution_count": 46,
   "id": "5738aa81",
   "metadata": {},
   "outputs": [
    {
     "name": "stdout",
     "output_type": "stream",
     "text": [
      "Enter first number :- 10\n",
      "Enter second number :- 0\n",
      "ZeroDivisionError exception occured\n"
     ]
    }
   ],
   "source": [
    "try:\n",
    "    x = int(input('Enter first number :- '))\n",
    "    y = int(input('Enter second number :- '))\n",
    "    print(x/y)\n",
    "    os.remove(\"mytest3.txt\")\n",
    "    \n",
    "except NameError:\n",
    "    print('NameError exception occured')\n",
    "    \n",
    "except FileNotFoundError:\n",
    "    print('FileNotFoundError exception occured')\n",
    "    \n",
    "except ZeroDivisionError:\n",
    "    print('ZeroDivisionError exception occured')"
   ]
  },
  {
   "cell_type": "code",
   "execution_count": 47,
   "id": "4d654ffc",
   "metadata": {},
   "outputs": [],
   "source": [
    "#raise"
   ]
  },
  {
   "cell_type": "code",
   "execution_count": 49,
   "id": "4e1a4c89",
   "metadata": {},
   "outputs": [
    {
     "name": "stdout",
     "output_type": "stream",
     "text": [
      "Enter a number :- 100\n",
      "<class 'ValueError'>\n"
     ]
    }
   ],
   "source": [
    "try:\n",
    "    x = int(input('Enter a number :- '))\n",
    "    if x > 50:\n",
    "        raise ValueError(x) \n",
    "\n",
    "except:\n",
    "    print(sys.exc_info()[0])"
   ]
  },
  {
   "cell_type": "code",
   "execution_count": 50,
   "id": "af0bfd6b",
   "metadata": {},
   "outputs": [],
   "source": [
    "#Various built-in exceptions"
   ]
  },
  {
   "cell_type": "code",
   "execution_count": 51,
   "id": "6662e1c8",
   "metadata": {},
   "outputs": [],
   "source": [
    "#overflow error"
   ]
  },
  {
   "cell_type": "code",
   "execution_count": 52,
   "id": "b820c5f2",
   "metadata": {},
   "outputs": [
    {
     "name": "stdout",
     "output_type": "stream",
     "text": [
      "(<class 'OverflowError'>, OverflowError('math range error'), <traceback object at 0x000001EFAB93D7C0>)\n"
     ]
    }
   ],
   "source": [
    "try:\n",
    "    import math\n",
    "    print(math.exp(1000))\n",
    "    \n",
    "except OverflowError:\n",
    "    print(sys.exc_info())\n",
    "    \n",
    "else:\n",
    "    print('Success, no error!')"
   ]
  },
  {
   "cell_type": "code",
   "execution_count": 53,
   "id": "e7b607e1",
   "metadata": {},
   "outputs": [
    {
     "name": "stdout",
     "output_type": "stream",
     "text": [
      "NameError exception occured\n"
     ]
    }
   ],
   "source": [
    "try:\n",
    "    print(x1)\n",
    "\n",
    "except NameError:\n",
    "    print('NameError exception occured')"
   ]
  },
  {
   "cell_type": "code",
   "execution_count": 54,
   "id": "ef1e112e",
   "metadata": {},
   "outputs": [
    {
     "name": "stdout",
     "output_type": "stream",
     "text": [
      "ModuleNotFoundError exception raised.\n"
     ]
    }
   ],
   "source": [
    "try:\n",
    "    import MyModule\n",
    "    \n",
    "except ModuleNotFoundError:\n",
    "    print('ModuleNotFoundError exception raised.')"
   ]
  },
  {
   "cell_type": "code",
   "execution_count": 55,
   "id": "dd88b3d4",
   "metadata": {},
   "outputs": [
    {
     "name": "stdout",
     "output_type": "stream",
     "text": [
      "KeyError exception occured\n"
     ]
    }
   ],
   "source": [
    "#KeyError\n",
    "try:\n",
    "    mydict = {1 : 'Doğu', 2 : 'Batı', 3: 'Sırt'}\n",
    "    print(mydict[4])\n",
    "    \n",
    "except KeyError:\n",
    "    print(\"KeyError exception occured\")"
   ]
  },
  {
   "cell_type": "code",
   "execution_count": 56,
   "id": "e2a8fc12",
   "metadata": {},
   "outputs": [
    {
     "name": "stdout",
     "output_type": "stream",
     "text": [
      "IndexError exception occured\n"
     ]
    }
   ],
   "source": [
    "#IndexError\n",
    "\n",
    "try:\n",
    "    mylist = [1,2,3,4,5,6]\n",
    "    print(mylist[10])\n",
    "    \n",
    "except IndexError:\n",
    "    print('IndexError exception occured')"
   ]
  },
  {
   "cell_type": "code",
   "execution_count": 57,
   "id": "52894224",
   "metadata": {},
   "outputs": [
    {
     "name": "stdout",
     "output_type": "stream",
     "text": [
      "TypeError exception raised\n"
     ]
    }
   ],
   "source": [
    "#TypeError -> iki farklı veri tipi birleştirilmeye çalışılırsa alınan istisnadır\n",
    "try:\n",
    "    a = 50\n",
    "    b = 'Doğu'\n",
    "    c = a / b\n",
    "\n",
    "except TypeError:\n",
    "    print(\"TypeError exception raised\")"
   ]
  },
  {
   "cell_type": "code",
   "execution_count": 58,
   "id": "c7fcfde7",
   "metadata": {},
   "outputs": [
    {
     "name": "stdout",
     "output_type": "stream",
     "text": [
      "AttributeError exception raised\n"
     ]
    }
   ],
   "source": [
    "#AttributeError : referans veya atama hatası olursa meydana gelir\n",
    "\n",
    "try:\n",
    "    a = 10\n",
    "    b = a.upper()\n",
    "    print(b)\n",
    "\n",
    "except AttributeError:\n",
    "    print(\"AttributeError exception raised\")"
   ]
  },
  {
   "cell_type": "code",
   "execution_count": 59,
   "id": "ea356d6e",
   "metadata": {},
   "outputs": [],
   "source": [
    "#with "
   ]
  },
  {
   "cell_type": "code",
   "execution_count": 69,
   "id": "5513d7e9",
   "metadata": {},
   "outputs": [
    {
     "name": "stdout",
     "output_type": "stream",
     "text": [
      "NEW CONTENT ADDED IN THE FILE. PREVIOUS CONTENT HAS BEEN OVERWRITTEN\n"
     ]
    }
   ],
   "source": [
    "with open(\"mytest1.txt\", 'r') as fout:\n",
    "    for line in fout:\n",
    "        print(line)"
   ]
  },
  {
   "cell_type": "code",
   "execution_count": 70,
   "id": "e3247173",
   "metadata": {},
   "outputs": [],
   "source": [
    "fileobj = open('mytest3.txt', 'w')\n",
    "fileobj.write('Python generators are easy way of creating iterators. It generates values one at a time from a given sequence instead of returning the entire sequence at once.\\nIt is a special type of function which returns an iterator object.\\nIn a generator function, a yield statement is used rather than a return statement.\\nThe generator function cannot include the return keyword. If we include it then it will terminate the execution of the function.\\nThe difference between yield and return is that once yield returns a value the function is paused and the control is transferred to the caller.Local variables and their states are remembered between successive calls. In case of the return statement value is returned and the execution of the function is terminated.\\nMethods like _iter()_ and _next()_ are implemented automatically in generator function.\\nSimple generators can be easily created using generator expressions. Generator expressions create anonymous generator functions like lambda.\\nThe syntax for generator expression is similar to that of a list comprehension but the only difference is square brackets are replaced with round parentheses. Also list comprehension produces the entire list while the generator expression produces one item at a time which is more memory efficient than list comprehension.')\n",
    "fileobj.close()"
   ]
  },
  {
   "cell_type": "code",
   "execution_count": 71,
   "id": "cf3fd4a8",
   "metadata": {},
   "outputs": [
    {
     "name": "stdout",
     "output_type": "stream",
     "text": [
      "Python generators are easy way of creating iterators. It generates values one at a time from a given sequence instead of returning the entire sequence at once.\n",
      "\n",
      "It is a special type of function which returns an iterator object.\n",
      "\n",
      "In a generator function, a yield statement is used rather than a return statement.\n",
      "\n",
      "The generator function cannot include the return keyword. If we include it then it will terminate the execution of the function.\n",
      "\n",
      "The difference between yield and return is that once yield returns a value the function is paused and the control is transferred to the caller.Local variables and their states are remembered between successive calls. In case of the return statement value is returned and the execution of the function is terminated.\n",
      "\n",
      "Methods like _iter()_ and _next()_ are implemented automatically in generator function.\n",
      "\n",
      "Simple generators can be easily created using generator expressions. Generator expressions create anonymous generator functions like lambda.\n",
      "\n",
      "The syntax for generator expression is similar to that of a list comprehension but the only difference is square brackets are replaced with round parentheses. Also list comprehension produces the entire list while the generator expression produces one item at a time which is more memory efficient than list comprehension.\n"
     ]
    }
   ],
   "source": [
    "with open('mytest3.txt', 'r') as fp:\n",
    "    while(True):\n",
    "        cur_line = fp.readline()\n",
    "        if cur_line == '':\n",
    "            break\n",
    "        print(cur_line)"
   ]
  },
  {
   "cell_type": "code",
   "execution_count": 74,
   "id": "e9388989",
   "metadata": {},
   "outputs": [
    {
     "name": "stdout",
     "output_type": "stream",
     "text": [
      "Python generators are easy way of creating iterators. It generates values one at a time from a given sequence instead of returning the entire sequence at once.\n",
      "\n",
      "It is a special type of function which returns an iterator object.\n",
      "\n",
      "In a generator function, a yield statement is used rather than a return statement.\n",
      "\n",
      "The generator function cannot include the return keyword. If we include it then it will terminate the execution of the function.\n",
      "\n",
      "The difference between yield and return is that once yield returns a value the function is paused and the control is transferred to the caller.Local variables and their states are remembered between successive calls. In case of the return statement value is returned and the execution of the function is terminated.\n",
      "\n"
     ]
    }
   ],
   "source": [
    "with open('mytest3.txt', 'r') as fp:\n",
    "    count = 0\n",
    "    for i in range(5):\n",
    "        if(count < 5):\n",
    "            print(fp.readline())\n",
    "        else:\n",
    "            break\n",
    "        count = count + 1 #count += 1"
   ]
  },
  {
   "cell_type": "code",
   "execution_count": 85,
   "id": "d8e1f80e",
   "metadata": {},
   "outputs": [],
   "source": [
    "fileobj = open('mytest3.txt', 'w')\n",
    "fileobj.write('Python generators are easy way of creating iterators. It generates values one at a time from a given sequence instead of returning the entire sequence at once.\\nIt is a special type of function which returns an iterator object.\\nIn a generator function, a yield statement is used rather than a return statement.\\nThe generator function cannot include the return keyword. If we include it then it will terminate the execution of the function.\\nThe difference between yield and return is that once yield returns a value the function is paused and the control is transferred to the caller.Local variables and their states are remembered between successive calls. In case of the return statement value is returned and the execution of the function is terminated.\\nMethods like _iter()_ and _next()_ are implemented automatically in generator function.\\nSimple generators can be easily created using generator expressions. Generator expressions create anonymous generator functions like lambda.\\nThe syntax for generator expression is similar to that of a list comprehension but the only difference is square brackets are replaced with round parentheses. Also list comprehension produces the entire list while the generator expression produces one item at a time which is more memory efficient than list comprehension.')\n",
    "fileobj.close()"
   ]
  },
  {
   "cell_type": "code",
   "execution_count": 95,
   "id": "028ae9d1",
   "metadata": {},
   "outputs": [
    {
     "name": "stdout",
     "output_type": "stream",
     "text": [
      "Line  0 :  ['Python generators are easy way of creating iterators. It generates values one at a time from a given sequence instead of returning the entire sequence at once.\\n', 'It is a special type of function which returns an iterator object.\\n', 'In a generator function, a yield statement is used rather than a return statement.\\n', 'The generator function cannot include the return keyword. If we include it then it will terminate the execution of the function.\\n', 'The difference between yield and return is that once yield returns a value the function is paused and the control is transferred to the caller.Local variables and their states are remembered between successive calls. In case of the return statement value is returned and the execution of the function is terminated.\\n', 'Methods like _iter()_ and _next()_ are implemented automatically in generator function.\\n', 'Simple generators can be easily created using generator expressions. Generator expressions create anonymous generator functions like lambda.\\n', 'The syntax for generator expression is similar to that of a list comprehension but the only difference is square brackets are replaced with round parentheses. Also list comprehension produces the entire list while the generator expression produces one item at a time which is more memory efficient than list comprehension.']\n",
      "Line  1 :  ['Python generators are easy way of creating iterators. It generates values one at a time from a given sequence instead of returning the entire sequence at once.\\n', 'It is a special type of function which returns an iterator object.\\n', 'In a generator function, a yield statement is used rather than a return statement.\\n', 'The generator function cannot include the return keyword. If we include it then it will terminate the execution of the function.\\n', 'The difference between yield and return is that once yield returns a value the function is paused and the control is transferred to the caller.Local variables and their states are remembered between successive calls. In case of the return statement value is returned and the execution of the function is terminated.\\n', 'Methods like _iter()_ and _next()_ are implemented automatically in generator function.\\n', 'Simple generators can be easily created using generator expressions. Generator expressions create anonymous generator functions like lambda.\\n', 'The syntax for generator expression is similar to that of a list comprehension but the only difference is square brackets are replaced with round parentheses. Also list comprehension produces the entire list while the generator expression produces one item at a time which is more memory efficient than list comprehension.']\n",
      "Line  2 :  ['Python generators are easy way of creating iterators. It generates values one at a time from a given sequence instead of returning the entire sequence at once.\\n', 'It is a special type of function which returns an iterator object.\\n', 'In a generator function, a yield statement is used rather than a return statement.\\n', 'The generator function cannot include the return keyword. If we include it then it will terminate the execution of the function.\\n', 'The difference between yield and return is that once yield returns a value the function is paused and the control is transferred to the caller.Local variables and their states are remembered between successive calls. In case of the return statement value is returned and the execution of the function is terminated.\\n', 'Methods like _iter()_ and _next()_ are implemented automatically in generator function.\\n', 'Simple generators can be easily created using generator expressions. Generator expressions create anonymous generator functions like lambda.\\n', 'The syntax for generator expression is similar to that of a list comprehension but the only difference is square brackets are replaced with round parentheses. Also list comprehension produces the entire list while the generator expression produces one item at a time which is more memory efficient than list comprehension.']\n",
      "Line  3 :  ['Python generators are easy way of creating iterators. It generates values one at a time from a given sequence instead of returning the entire sequence at once.\\n', 'It is a special type of function which returns an iterator object.\\n', 'In a generator function, a yield statement is used rather than a return statement.\\n', 'The generator function cannot include the return keyword. If we include it then it will terminate the execution of the function.\\n', 'The difference between yield and return is that once yield returns a value the function is paused and the control is transferred to the caller.Local variables and their states are remembered between successive calls. In case of the return statement value is returned and the execution of the function is terminated.\\n', 'Methods like _iter()_ and _next()_ are implemented automatically in generator function.\\n', 'Simple generators can be easily created using generator expressions. Generator expressions create anonymous generator functions like lambda.\\n', 'The syntax for generator expression is similar to that of a list comprehension but the only difference is square brackets are replaced with round parentheses. Also list comprehension produces the entire list while the generator expression produces one item at a time which is more memory efficient than list comprehension.']\n",
      "Line  4 :  ['Python generators are easy way of creating iterators. It generates values one at a time from a given sequence instead of returning the entire sequence at once.\\n', 'It is a special type of function which returns an iterator object.\\n', 'In a generator function, a yield statement is used rather than a return statement.\\n', 'The generator function cannot include the return keyword. If we include it then it will terminate the execution of the function.\\n', 'The difference between yield and return is that once yield returns a value the function is paused and the control is transferred to the caller.Local variables and their states are remembered between successive calls. In case of the return statement value is returned and the execution of the function is terminated.\\n', 'Methods like _iter()_ and _next()_ are implemented automatically in generator function.\\n', 'Simple generators can be easily created using generator expressions. Generator expressions create anonymous generator functions like lambda.\\n', 'The syntax for generator expression is similar to that of a list comprehension but the only difference is square brackets are replaced with round parentheses. Also list comprehension produces the entire list while the generator expression produces one item at a time which is more memory efficient than list comprehension.']\n",
      "Line  5 :  ['Python generators are easy way of creating iterators. It generates values one at a time from a given sequence instead of returning the entire sequence at once.\\n', 'It is a special type of function which returns an iterator object.\\n', 'In a generator function, a yield statement is used rather than a return statement.\\n', 'The generator function cannot include the return keyword. If we include it then it will terminate the execution of the function.\\n', 'The difference between yield and return is that once yield returns a value the function is paused and the control is transferred to the caller.Local variables and their states are remembered between successive calls. In case of the return statement value is returned and the execution of the function is terminated.\\n', 'Methods like _iter()_ and _next()_ are implemented automatically in generator function.\\n', 'Simple generators can be easily created using generator expressions. Generator expressions create anonymous generator functions like lambda.\\n', 'The syntax for generator expression is similar to that of a list comprehension but the only difference is square brackets are replaced with round parentheses. Also list comprehension produces the entire list while the generator expression produces one item at a time which is more memory efficient than list comprehension.']\n",
      "Line  6 :  ['Python generators are easy way of creating iterators. It generates values one at a time from a given sequence instead of returning the entire sequence at once.\\n', 'It is a special type of function which returns an iterator object.\\n', 'In a generator function, a yield statement is used rather than a return statement.\\n', 'The generator function cannot include the return keyword. If we include it then it will terminate the execution of the function.\\n', 'The difference between yield and return is that once yield returns a value the function is paused and the control is transferred to the caller.Local variables and their states are remembered between successive calls. In case of the return statement value is returned and the execution of the function is terminated.\\n', 'Methods like _iter()_ and _next()_ are implemented automatically in generator function.\\n', 'Simple generators can be easily created using generator expressions. Generator expressions create anonymous generator functions like lambda.\\n', 'The syntax for generator expression is similar to that of a list comprehension but the only difference is square brackets are replaced with round parentheses. Also list comprehension produces the entire list while the generator expression produces one item at a time which is more memory efficient than list comprehension.']\n",
      "Line  7 :  ['Python generators are easy way of creating iterators. It generates values one at a time from a given sequence instead of returning the entire sequence at once.\\n', 'It is a special type of function which returns an iterator object.\\n', 'In a generator function, a yield statement is used rather than a return statement.\\n', 'The generator function cannot include the return keyword. If we include it then it will terminate the execution of the function.\\n', 'The difference between yield and return is that once yield returns a value the function is paused and the control is transferred to the caller.Local variables and their states are remembered between successive calls. In case of the return statement value is returned and the execution of the function is terminated.\\n', 'Methods like _iter()_ and _next()_ are implemented automatically in generator function.\\n', 'Simple generators can be easily created using generator expressions. Generator expressions create anonymous generator functions like lambda.\\n', 'The syntax for generator expression is similar to that of a list comprehension but the only difference is square brackets are replaced with round parentheses. Also list comprehension produces the entire list while the generator expression produces one item at a time which is more memory efficient than list comprehension.']\n"
     ]
    }
   ],
   "source": [
    "with open('mytest3.txt', 'r') as fileobj:\n",
    "    mylines = fileobj.readlines()\n",
    "for i in range(len(mylines)):\n",
    "    print(\"Line \", str(i), \": \", mylines)"
   ]
  },
  {
   "cell_type": "code",
   "execution_count": null,
   "id": "9abd8f36",
   "metadata": {},
   "outputs": [],
   "source": []
  }
 ],
 "metadata": {
  "kernelspec": {
   "display_name": "Python 3 (ipykernel)",
   "language": "python",
   "name": "python3"
  },
  "language_info": {
   "codemirror_mode": {
    "name": "ipython",
    "version": 3
   },
   "file_extension": ".py",
   "mimetype": "text/x-python",
   "name": "python",
   "nbconvert_exporter": "python",
   "pygments_lexer": "ipython3",
   "version": "3.9.13"
  }
 },
 "nbformat": 4,
 "nbformat_minor": 5
}
