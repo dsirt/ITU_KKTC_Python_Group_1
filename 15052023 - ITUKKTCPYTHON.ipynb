{
 "cells": [
  {
   "cell_type": "code",
   "execution_count": 2,
   "id": "e3ef272d",
   "metadata": {},
   "outputs": [
    {
     "name": "stdout",
     "output_type": "stream",
     "text": [
      "92\n"
     ]
    }
   ],
   "source": [
    "def main():\n",
    "    value = 46\n",
    "    show_double(value)\n",
    "\n",
    "def show_double(number):\n",
    "    result = number * 2\n",
    "    print(result)\n",
    "    \n",
    "main()"
   ]
  },
  {
   "cell_type": "code",
   "execution_count": 3,
   "id": "acaf4cda",
   "metadata": {},
   "outputs": [
    {
     "name": "stdout",
     "output_type": "stream",
     "text": [
      "Hello Python Lovers\n"
     ]
    }
   ],
   "source": [
    "def myfunc():\n",
    "    print(\"Hello Python Lovers\")\n",
    "\n",
    "myfunc()"
   ]
  },
  {
   "cell_type": "code",
   "execution_count": 4,
   "id": "384c0050",
   "metadata": {},
   "outputs": [
    {
     "name": "stdout",
     "output_type": "stream",
     "text": [
      "Name :- İsmail\n",
      "User ID is :- ismail123\n",
      "Country :- İsmail Cumhuriyeti\n"
     ]
    }
   ],
   "source": [
    "def details(name, userid, country):\n",
    "    print('Name :-', name)\n",
    "    print('User ID is :-', userid)\n",
    "    print('Country :-', country)\n",
    "\n",
    "details('İsmail', 'ismail123', 'İsmail Cumhuriyeti')"
   ]
  },
  {
   "cell_type": "code",
   "execution_count": 5,
   "id": "63d9f528",
   "metadata": {},
   "outputs": [
    {
     "data": {
      "text/plain": [
       "100"
      ]
     },
     "execution_count": 5,
     "metadata": {},
     "output_type": "execute_result"
    }
   ],
   "source": [
    "def square(n):\n",
    "    n = n*n\n",
    "    return n\n",
    "\n",
    "square(10)"
   ]
  },
  {
   "cell_type": "code",
   "execution_count": 7,
   "id": "cb87ae93",
   "metadata": {},
   "outputs": [
    {
     "name": "stdout",
     "output_type": "stream",
     "text": [
      "3 is odd number\n",
      "4 is even number\n",
      "This function will check whether a number is even or odd\n"
     ]
    }
   ],
   "source": [
    "def even_odd(num):\n",
    "    \"\"\"This function will check whether a number is even or odd\"\"\" #docstring\n",
    "    if num % 2 == 0:\n",
    "        print(num, 'is even number')\n",
    "    else:\n",
    "        print(num, 'is odd number')\n",
    "        \n",
    "even_odd(3)\n",
    "even_odd(4)\n",
    "print(even_odd.__doc__)"
   ]
  },
  {
   "cell_type": "code",
   "execution_count": 8,
   "id": "ddc9ac7d",
   "metadata": {},
   "outputs": [
    {
     "name": "stdout",
     "output_type": "stream",
     "text": [
      "Rauf Raif Denktaş\n"
     ]
    }
   ],
   "source": [
    "def fullname(firstname, middlename, lastname):\n",
    "    fullname = \"{} {} {}\".format(firstname, middlename, lastname)\n",
    "    print(fullname) #String Concatenation\n",
    "    \n",
    "fullname(lastname = 'Denktaş', middlename = 'Raif', firstname = 'Rauf')"
   ]
  },
  {
   "cell_type": "code",
   "execution_count": 10,
   "id": "a2b17481",
   "metadata": {},
   "outputs": [
    {
     "name": "stdout",
     "output_type": "stream",
     "text": [
      "Doğu Batı Sırt\n"
     ]
    }
   ],
   "source": [
    "fullname('Doğu', 'Batı', 'Sırt')"
   ]
  },
  {
   "cell_type": "code",
   "execution_count": 11,
   "id": "666fe567",
   "metadata": {},
   "outputs": [
    {
     "name": "stdout",
     "output_type": "stream",
     "text": [
      "Most Populous City :- Gazi Mağusa\n"
     ]
    }
   ],
   "source": [
    "def myfunc(city = 'Gazi Mağusa'): #default parameter\n",
    "    print('Most Populous City :-', city)\n",
    "    \n",
    "myfunc()"
   ]
  },
  {
   "cell_type": "code",
   "execution_count": 12,
   "id": "6e6ba0c3",
   "metadata": {},
   "outputs": [],
   "source": [
    "#Global - Local Variables"
   ]
  },
  {
   "cell_type": "code",
   "execution_count": 13,
   "id": "edc8e335",
   "metadata": {},
   "outputs": [
    {
     "name": "stdout",
     "output_type": "stream",
     "text": [
      "100\n",
      "100\n"
     ]
    }
   ],
   "source": [
    "var1 = 100\n",
    "\n",
    "def myfunc():\n",
    "    print(var1)\n",
    "    \n",
    "myfunc()\n",
    "print(var1)"
   ]
  },
  {
   "cell_type": "code",
   "execution_count": 14,
   "id": "a9ae7f6b",
   "metadata": {},
   "outputs": [
    {
     "name": "stdout",
     "output_type": "stream",
     "text": [
      "10\n"
     ]
    },
    {
     "ename": "NameError",
     "evalue": "name 'var2' is not defined",
     "output_type": "error",
     "traceback": [
      "\u001b[1;31m---------------------------------------------------------------------------\u001b[0m",
      "\u001b[1;31mNameError\u001b[0m                                 Traceback (most recent call last)",
      "\u001b[1;32m<ipython-input-14-3faf9e61a02c>\u001b[0m in \u001b[0;36m<module>\u001b[1;34m\u001b[0m\n\u001b[0;32m      7\u001b[0m \u001b[1;33m\u001b[0m\u001b[0m\n\u001b[0;32m      8\u001b[0m \u001b[0mmyfunc1\u001b[0m\u001b[1;33m(\u001b[0m\u001b[1;33m)\u001b[0m\u001b[1;33m\u001b[0m\u001b[1;33m\u001b[0m\u001b[0m\n\u001b[1;32m----> 9\u001b[1;33m \u001b[0mmyfunc2\u001b[0m\u001b[1;33m(\u001b[0m\u001b[1;33m)\u001b[0m\u001b[1;33m\u001b[0m\u001b[1;33m\u001b[0m\u001b[0m\n\u001b[0m",
      "\u001b[1;32m<ipython-input-14-3faf9e61a02c>\u001b[0m in \u001b[0;36mmyfunc2\u001b[1;34m()\u001b[0m\n\u001b[0;32m      4\u001b[0m \u001b[1;33m\u001b[0m\u001b[0m\n\u001b[0;32m      5\u001b[0m \u001b[1;32mdef\u001b[0m \u001b[0mmyfunc2\u001b[0m\u001b[1;33m(\u001b[0m\u001b[1;33m)\u001b[0m\u001b[1;33m:\u001b[0m\u001b[1;33m\u001b[0m\u001b[1;33m\u001b[0m\u001b[0m\n\u001b[1;32m----> 6\u001b[1;33m     \u001b[0mprint\u001b[0m\u001b[1;33m(\u001b[0m\u001b[0mvar2\u001b[0m\u001b[1;33m)\u001b[0m\u001b[1;33m\u001b[0m\u001b[1;33m\u001b[0m\u001b[0m\n\u001b[0m\u001b[0;32m      7\u001b[0m \u001b[1;33m\u001b[0m\u001b[0m\n\u001b[0;32m      8\u001b[0m \u001b[0mmyfunc1\u001b[0m\u001b[1;33m(\u001b[0m\u001b[1;33m)\u001b[0m\u001b[1;33m\u001b[0m\u001b[1;33m\u001b[0m\u001b[0m\n",
      "\u001b[1;31mNameError\u001b[0m: name 'var2' is not defined"
     ]
    }
   ],
   "source": [
    "def myfunc1():\n",
    "    var2 = 10\n",
    "    print(var2)\n",
    "    \n",
    "def myfunc2():\n",
    "    print(var2) #var2'nin kapsamı (scope) lokaldir\n",
    "\n",
    "myfunc1()\n",
    "myfunc2()"
   ]
  },
  {
   "cell_type": "code",
   "execution_count": 15,
   "id": "8ff77ef1",
   "metadata": {},
   "outputs": [
    {
     "name": "stdout",
     "output_type": "stream",
     "text": [
      "99\n",
      "100\n"
     ]
    }
   ],
   "source": [
    "var1 = 100\n",
    "\n",
    "def myfunc():\n",
    "    var1 = 99\n",
    "    print(var1)\n",
    "    \n",
    "myfunc()\n",
    "print(var1)"
   ]
  },
  {
   "cell_type": "code",
   "execution_count": 16,
   "id": "23562b5d",
   "metadata": {},
   "outputs": [
    {
     "name": "stdout",
     "output_type": "stream",
     "text": [
      "\"List1\" before calling the function :- [11, 22, 33, 44, 55]\n",
      "\"List1\" after calling the function :- [22, 33, 44, 55]\n"
     ]
    }
   ],
   "source": [
    "list1 = [11,22,33,44,55]\n",
    "\n",
    "def myfunc(list1):\n",
    "    del list1[0]\n",
    "    \n",
    "print('\"List1\" before calling the function :-', list1)\n",
    "myfunc(list1)\n",
    "print('\"List1\" after calling the function :-', list1)"
   ]
  },
  {
   "cell_type": "code",
   "execution_count": 17,
   "id": "67e0a42d",
   "metadata": {},
   "outputs": [
    {
     "name": "stdout",
     "output_type": "stream",
     "text": [
      "\"List1\" before calling the function :- [11, 22, 33, 44, 55]\n",
      "\"List1\" after calling the function :- [11, 22, 33, 44, 55, 100]\n"
     ]
    }
   ],
   "source": [
    "list1 = [11,22,33,44,55]\n",
    "\n",
    "def myfunc(list1):\n",
    "    list1.append(100)\n",
    "    \n",
    "print('\"List1\" before calling the function :-', list1)\n",
    "myfunc(list1)\n",
    "print('\"List1\" after calling the function :-', list1)"
   ]
  },
  {
   "cell_type": "code",
   "execution_count": 20,
   "id": "6ec11950",
   "metadata": {},
   "outputs": [
    {
     "name": "stdout",
     "output_type": "stream",
     "text": [
      "3\n",
      "-3\n",
      "3\n"
     ]
    }
   ],
   "source": [
    "def subs(a, b):\n",
    "    return a - b\n",
    "\n",
    "print(subs(8, 5))\n",
    "print(subs(5, 8))\n",
    "print(subs(b = 5, a = 8))"
   ]
  },
  {
   "cell_type": "code",
   "execution_count": 21,
   "id": "bd406ded",
   "metadata": {},
   "outputs": [
    {
     "name": "stdout",
     "output_type": "stream",
     "text": [
      "\"List1\" before calling the function :- [11, 22, 33, 44, 55]\n",
      "\"List1\" after calling the function :- [11, 22, 33, 44, 55]\n"
     ]
    }
   ],
   "source": [
    "list1 = [11,22,33,44,55]\n",
    "\n",
    "def myfunc(list1):\n",
    "    list1 = [10,100,1000,10000]\n",
    "    \n",
    "print('\"List1\" before calling the function :-', list1)\n",
    "myfunc(list1)\n",
    "print('\"List1\" after calling the function :-', list1)"
   ]
  },
  {
   "cell_type": "code",
   "execution_count": null,
   "id": "7778bb06",
   "metadata": {},
   "outputs": [],
   "source": [
    "#def swap(a, b)"
   ]
  }
 ],
 "metadata": {
  "kernelspec": {
   "display_name": "Python 3",
   "language": "python",
   "name": "python3"
  },
  "language_info": {
   "codemirror_mode": {
    "name": "ipython",
    "version": 3
   },
   "file_extension": ".py",
   "mimetype": "text/x-python",
   "name": "python",
   "nbconvert_exporter": "python",
   "pygments_lexer": "ipython3",
   "version": "3.8.8"
  }
 },
 "nbformat": 4,
 "nbformat_minor": 5
}
