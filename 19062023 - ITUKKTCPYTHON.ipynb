{
 "cells": [
  {
   "cell_type": "code",
   "execution_count": 3,
   "id": "e9d67d02",
   "metadata": {},
   "outputs": [
    {
     "data": {
      "text/plain": [
       "(20, 10)"
      ]
     },
     "execution_count": 3,
     "metadata": {},
     "output_type": "execute_result"
    }
   ],
   "source": [
    "def swap(a, b):\n",
    "    temp = a\n",
    "    a = b\n",
    "    b = temp    \n",
    "    \n",
    "a = 10\n",
    "b = 20\n",
    "swap(a, b)\n",
    "b, a"
   ]
  },
  {
   "cell_type": "code",
   "execution_count": 5,
   "id": "bc16535a",
   "metadata": {},
   "outputs": [
    {
     "data": {
      "text/plain": [
       "40320"
      ]
     },
     "execution_count": 5,
     "metadata": {},
     "output_type": "execute_result"
    }
   ],
   "source": [
    "def factorial(num): #recursive function\n",
    "    if num <= 1 :\n",
    "        return 1\n",
    "    else:\n",
    "        return num * factorial(num - 1)\n",
    "    \n",
    "factorial(8)"
   ]
  },
  {
   "cell_type": "code",
   "execution_count": 6,
   "id": "c202b2e9",
   "metadata": {},
   "outputs": [
    {
     "data": {
      "text/plain": [
       "15"
      ]
     },
     "execution_count": 6,
     "metadata": {},
     "output_type": "execute_result"
    }
   ],
   "source": [
    "#İlk n adet sayının toplanması\n",
    "def add(num):\n",
    "    if num == 0:\n",
    "        return 0\n",
    "    else:\n",
    "        return num + add(num - 1)\n",
    "    \n",
    "add(5)"
   ]
  },
  {
   "cell_type": "code",
   "execution_count": 9,
   "id": "e4aa5dc8",
   "metadata": {},
   "outputs": [
    {
     "name": "stdout",
     "output_type": "stream",
     "text": [
      "How many fibonacci numbers you want to generate - 10\n",
      "0\n",
      "1\n",
      "1\n",
      "2\n",
      "3\n",
      "5\n",
      "8\n",
      "13\n",
      "21\n",
      "34\n"
     ]
    }
   ],
   "source": [
    "def fibonacci(num):\n",
    "    if num <= 1 :\n",
    "        return num\n",
    "    if num == 2 :\n",
    "        return 1\n",
    "    else:\n",
    "        return (fibonacci(num - 1) + fibonacci (num - 2))\n",
    "\n",
    "nums = int(input(\"How many fibonacci numbers you want to generate - \"))\n",
    "\n",
    "for i in range(nums):\n",
    "    print(fibonacci(i))"
   ]
  },
  {
   "cell_type": "code",
   "execution_count": 10,
   "id": "82450c56",
   "metadata": {},
   "outputs": [],
   "source": [
    "#args - kwargs"
   ]
  },
  {
   "cell_type": "code",
   "execution_count": 11,
   "id": "80ab5b17",
   "metadata": {},
   "outputs": [
    {
     "name": "stdout",
     "output_type": "stream",
     "text": [
      "60\n"
     ]
    }
   ],
   "source": [
    "def add(a, b, c):\n",
    "    return a + b + c\n",
    "\n",
    "print(add(10, 20, 30))"
   ]
  },
  {
   "cell_type": "code",
   "execution_count": 13,
   "id": "ca2bdb1e",
   "metadata": {},
   "outputs": [
    {
     "name": "stdout",
     "output_type": "stream",
     "text": [
      "6\n"
     ]
    }
   ],
   "source": [
    "print(add(1,2,3))"
   ]
  },
  {
   "cell_type": "code",
   "execution_count": 17,
   "id": "637320d9",
   "metadata": {},
   "outputs": [
    {
     "name": "stdout",
     "output_type": "stream",
     "text": [
      "arg_1 :  44\n",
      "arg_2 :  55\n",
      "arg_3 :  66\n"
     ]
    }
   ],
   "source": [
    "def some_args(arg_1, arg_2, arg_3):\n",
    "    print(\"arg_1 : \", arg_1)\n",
    "    print(\"arg_2 : \", arg_2)\n",
    "    print(\"arg_3 : \", arg_3)\n",
    "    \n",
    "my_list = [55, 66]\n",
    "some_args(44, *my_list)"
   ]
  },
  {
   "cell_type": "code",
   "execution_count": 19,
   "id": "682483e4",
   "metadata": {},
   "outputs": [
    {
     "name": "stdout",
     "output_type": "stream",
     "text": [
      "6\n",
      "10\n",
      "15\n",
      "21\n",
      "28\n"
     ]
    }
   ],
   "source": [
    "def add1(*args):\n",
    "    return sum(args)\n",
    "\n",
    "print(add1(1,2,3))\n",
    "print(add1(1,2,3,4))\n",
    "print(add1(1,2,3,4,5))\n",
    "print(add1(1,2,3,4,5,6))\n",
    "print(add1(1,2,3,4,5,6,7))"
   ]
  },
  {
   "cell_type": "code",
   "execution_count": 20,
   "id": "c4362a30",
   "metadata": {},
   "outputs": [
    {
     "data": {
      "text/plain": [
       "(28, 28)"
      ]
     },
     "execution_count": 20,
     "metadata": {},
     "output_type": "execute_result"
    }
   ],
   "source": [
    "list1 = [1,2,3,4,5,6,7]\n",
    "tuple1 = (1,2,3,4,5,6,7)\n",
    "\n",
    "add1(*list1), add1(*tuple1)"
   ]
  },
  {
   "cell_type": "code",
   "execution_count": 21,
   "id": "aa420827",
   "metadata": {},
   "outputs": [
    {
     "data": {
      "text/plain": [
       "112"
      ]
     },
     "execution_count": 21,
     "metadata": {},
     "output_type": "execute_result"
    }
   ],
   "source": [
    "list1 = [1,2,3,4,5,6,7]\n",
    "list2 = [1,2,3,4,5,6,7]\n",
    "list3 = [1,2,3,4,5,6,7]\n",
    "list4 = [1,2,3,4,5,6,7]\n",
    "\n",
    "add1(*list1, *list2, *list3, *list4)"
   ]
  },
  {
   "cell_type": "code",
   "execution_count": 22,
   "id": "f06d4f88",
   "metadata": {},
   "outputs": [
    {
     "name": "stdout",
     "output_type": "stream",
     "text": [
      "('Doğu', 7412, 41102, 33, 'Türkiye', 'Türkçe')\n"
     ]
    }
   ],
   "source": [
    "def UserDetails(*args):\n",
    "    print(args)\n",
    "    \n",
    "UserDetails('Doğu', 7412, 41102, 33, 'Türkiye', 'Türkçe')"
   ]
  },
  {
   "cell_type": "code",
   "execution_count": 23,
   "id": "da0bde71",
   "metadata": {},
   "outputs": [
    {
     "name": "stdout",
     "output_type": "stream",
     "text": [
      "{'Name': 'Doğu', 'ID': 7412, 'Pincode': 41102, 'Age': 33, 'Country': 'Türkiye', 'Language': 'Türkçe'}\n"
     ]
    }
   ],
   "source": [
    "def UserDetails(**kwargs):\n",
    "    print(kwargs)\n",
    "\n",
    "UserDetails(Name = 'Doğu', ID = 7412, Pincode = 41102, Age = 33, Country = 'Türkiye', Language = 'Türkçe')"
   ]
  },
  {
   "cell_type": "code",
   "execution_count": 29,
   "id": "b4ece325",
   "metadata": {},
   "outputs": [
    {
     "name": "stdout",
     "output_type": "stream",
     "text": [
      "Name :- Doğu\n",
      "ID :- 7412\n",
      "Pincode :- 41102\n",
      "Age :- 33\n",
      "Country :- India\n",
      "Language :- English\n"
     ]
    }
   ],
   "source": [
    "def UserDetails(**kwargs):\n",
    "    for key, val in kwargs.items():\n",
    "        print(\"{} :- {}\".format(key, val))\n",
    "\n",
    "UserDetails(Name = 'Doğu', ID = 7412, Pincode = 41102, Age = 33, Country = 'India', Language = 'English')"
   ]
  },
  {
   "cell_type": "code",
   "execution_count": 30,
   "id": "f873814e",
   "metadata": {},
   "outputs": [
    {
     "name": "stdout",
     "output_type": "stream",
     "text": [
      "Name :- Doğu\n",
      "ID :- 7412\n",
      "Pincode :- 41102\n",
      "Age :- 33\n",
      "Country :- Türkiye\n",
      "Language :- Türkçe\n"
     ]
    }
   ],
   "source": [
    "mydict = {'Name': 'Doğu', 'ID': 7412, 'Pincode': 41102, 'Age': 33, 'Country': 'Türkiye', 'Language': 'Türkçe'}\n",
    "\n",
    "UserDetails(**mydict)"
   ]
  },
  {
   "cell_type": "code",
   "execution_count": 32,
   "id": "f1cd55b9",
   "metadata": {},
   "outputs": [
    {
     "name": "stdout",
     "output_type": "stream",
     "text": [
      "Licence No :- TR145\n",
      "Full Name :- Doğu Batı Sırt\n",
      "Phone Number :-  1234567890\n",
      "Name :- Doğu\n",
      "ID :- 7412\n",
      "Pincode :- 41102\n",
      "Age :- 33\n",
      "Country :- Türkiye\n",
      "Language :- Türkçe\n"
     ]
    }
   ],
   "source": [
    "def UserDetails(licenceNo, *args, phoneNo = 0, **kwargs):\n",
    "    print('Licence No :-', licenceNo)\n",
    "    j = ''\n",
    "    for i in args:\n",
    "        j = j + i\n",
    "    print('Full Name :-', j)\n",
    "    print('Phone Number :- ', phoneNo)\n",
    "    for key, val in kwargs.items():\n",
    "        print(\"{} :- {}\".format(key, val))\n",
    "        \n",
    "name = ['Doğu', ' ', 'Batı', ' ', 'Sırt']\n",
    "mydict = {'Name': 'Doğu', 'ID': 7412, 'Pincode': 41102, 'Age': 33, 'Country': 'Türkiye', 'Language': 'Türkçe'}\n",
    "\n",
    "UserDetails('TR145', *name, phoneNo = 1234567890, **mydict)"
   ]
  },
  {
   "cell_type": "code",
   "execution_count": 33,
   "id": "0192b73e",
   "metadata": {},
   "outputs": [],
   "source": [
    "def UserDetails(licenceNo, *args, phoneNo = 0, **kwargs):\n",
    "    print('Nothing')"
   ]
  },
  {
   "cell_type": "code",
   "execution_count": 34,
   "id": "8278a2b0",
   "metadata": {},
   "outputs": [
    {
     "ename": "SyntaxError",
     "evalue": "invalid syntax (3864080645.py, line 1)",
     "output_type": "error",
     "traceback": [
      "\u001b[1;36m  File \u001b[1;32m\"C:\\Users\\hp\\AppData\\Local\\Temp\\ipykernel_14020\\3864080645.py\"\u001b[1;36m, line \u001b[1;32m1\u001b[0m\n\u001b[1;33m    def UserDetails(licenceNo, **kwargs, *args):\u001b[0m\n\u001b[1;37m                                         ^\u001b[0m\n\u001b[1;31mSyntaxError\u001b[0m\u001b[1;31m:\u001b[0m invalid syntax\n"
     ]
    }
   ],
   "source": [
    "def UserDetails(licenceNo, **kwargs, *args):\n",
    "    print('Nothing')"
   ]
  },
  {
   "cell_type": "code",
   "execution_count": 35,
   "id": "0aaa51f4",
   "metadata": {},
   "outputs": [
    {
     "ename": "SyntaxError",
     "evalue": "non-default argument follows default argument (1535985233.py, line 1)",
     "output_type": "error",
     "traceback": [
      "\u001b[1;36m  File \u001b[1;32m\"C:\\Users\\hp\\AppData\\Local\\Temp\\ipykernel_14020\\1535985233.py\"\u001b[1;36m, line \u001b[1;32m1\u001b[0m\n\u001b[1;33m    def UserDetails(ID = 1, licenseNo, *args):\u001b[0m\n\u001b[1;37m                                       ^\u001b[0m\n\u001b[1;31mSyntaxError\u001b[0m\u001b[1;31m:\u001b[0m non-default argument follows default argument\n"
     ]
    }
   ],
   "source": [
    "def UserDetails(ID = 1, licenseNo, *args):\n",
    "    print('Nothing')"
   ]
  },
  {
   "cell_type": "code",
   "execution_count": 36,
   "id": "801524e1",
   "metadata": {},
   "outputs": [],
   "source": [
    "#Lambda, Filter, Map, Reduce (Anonymous Functions)"
   ]
  },
  {
   "cell_type": "code",
   "execution_count": 37,
   "id": "7b1536b5",
   "metadata": {},
   "outputs": [],
   "source": [
    "#lambda argument(s) : expression\n",
    "#lambda num1, num2 : num1 + num2"
   ]
  },
  {
   "cell_type": "code",
   "execution_count": 38,
   "id": "f5256cf0",
   "metadata": {},
   "outputs": [
    {
     "name": "stdout",
     "output_type": "stream",
     "text": [
      "15\n"
     ]
    }
   ],
   "source": [
    "addition = lambda a : a + 10\n",
    "print(addition(5))"
   ]
  },
  {
   "cell_type": "code",
   "execution_count": 39,
   "id": "4810b02a",
   "metadata": {},
   "outputs": [
    {
     "name": "stdout",
     "output_type": "stream",
     "text": [
      "30\n"
     ]
    }
   ],
   "source": [
    "product = lambda a, b : a * b\n",
    "print(product(5, 6))"
   ]
  },
  {
   "cell_type": "code",
   "execution_count": 41,
   "id": "c4219c96",
   "metadata": {},
   "outputs": [
    {
     "name": "stdout",
     "output_type": "stream",
     "text": [
      "13\n"
     ]
    }
   ],
   "source": [
    "addition = lambda a,b,c : a + b + c\n",
    "print(addition(5,6,2))"
   ]
  },
  {
   "cell_type": "code",
   "execution_count": 42,
   "id": "ec6ec295",
   "metadata": {},
   "outputs": [
    {
     "data": {
      "text/plain": [
       "(30, 100, 280)"
      ]
     },
     "execution_count": 42,
     "metadata": {},
     "output_type": "execute_result"
    }
   ],
   "source": [
    "res = (lambda *args : sum(args))\n",
    "res(10, 20), res(10,20,30,40), res(10,20,30,40,50,60,70)"
   ]
  },
  {
   "cell_type": "code",
   "execution_count": null,
   "id": "10a1e5a0",
   "metadata": {},
   "outputs": [],
   "source": []
  }
 ],
 "metadata": {
  "kernelspec": {
   "display_name": "Python 3 (ipykernel)",
   "language": "python",
   "name": "python3"
  },
  "language_info": {
   "codemirror_mode": {
    "name": "ipython",
    "version": 3
   },
   "file_extension": ".py",
   "mimetype": "text/x-python",
   "name": "python",
   "nbconvert_exporter": "python",
   "pygments_lexer": "ipython3",
   "version": "3.9.13"
  }
 },
 "nbformat": 4,
 "nbformat_minor": 5
}
