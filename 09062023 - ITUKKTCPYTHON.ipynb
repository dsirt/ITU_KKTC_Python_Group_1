{
 "cells": [
  {
   "cell_type": "code",
   "execution_count": 1,
   "id": "dea6e6cb",
   "metadata": {},
   "outputs": [],
   "source": [
    "#İki boyutlu listeler"
   ]
  },
  {
   "cell_type": "code",
   "execution_count": 9,
   "id": "100dfea2",
   "metadata": {},
   "outputs": [
    {
     "name": "stdout",
     "output_type": "stream",
     "text": [
      "[[81, 59, 8, 14], [8, 73, 22, 83], [13, 43, 68, 39]]\n"
     ]
    }
   ],
   "source": [
    "import random\n",
    "\n",
    "ROWS = 3\n",
    "COLS = 4\n",
    "\n",
    "values = [[0, 0, 0, 0],\n",
    "          [0, 0, 0, 0],\n",
    "          [0, 0, 0, 0]]\n",
    "\n",
    "for r in range(ROWS):\n",
    "    for c in range(COLS):\n",
    "        values[r][c] = random.randint(1, 100)\n",
    "\n",
    "print(values)"
   ]
  },
  {
   "cell_type": "code",
   "execution_count": 10,
   "id": "e3978b5c",
   "metadata": {},
   "outputs": [],
   "source": [
    "#Sözlükler"
   ]
  },
  {
   "cell_type": "code",
   "execution_count": 11,
   "id": "72b9907c",
   "metadata": {},
   "outputs": [
    {
     "data": {
      "text/plain": [
       "{}"
      ]
     },
     "execution_count": 11,
     "metadata": {},
     "output_type": "execute_result"
    }
   ],
   "source": [
    "mydict = dict()\n",
    "mydict"
   ]
  },
  {
   "cell_type": "code",
   "execution_count": 12,
   "id": "526bf9db",
   "metadata": {},
   "outputs": [
    {
     "data": {
      "text/plain": [
       "{}"
      ]
     },
     "execution_count": 12,
     "metadata": {},
     "output_type": "execute_result"
    }
   ],
   "source": [
    "mydict = {}\n",
    "mydict"
   ]
  },
  {
   "cell_type": "code",
   "execution_count": 13,
   "id": "82e1fc99",
   "metadata": {},
   "outputs": [
    {
     "data": {
      "text/plain": [
       "{1: 'one', 2: 'two', 3: 'three'}"
      ]
     },
     "execution_count": 13,
     "metadata": {},
     "output_type": "execute_result"
    }
   ],
   "source": [
    "mydict = {1 : 'one', 2 : 'two', 3 : 'three'}\n",
    "mydict"
   ]
  },
  {
   "cell_type": "code",
   "execution_count": 15,
   "id": "e0cc43ec",
   "metadata": {},
   "outputs": [
    {
     "data": {
      "text/plain": [
       "{1: 'one', 2: 'two', 3: 'three'}"
      ]
     },
     "execution_count": 15,
     "metadata": {},
     "output_type": "execute_result"
    }
   ],
   "source": [
    "mydict = dict({1 : 'one', 2 : 'two', 3: 'three'})\n",
    "mydict"
   ]
  },
  {
   "cell_type": "code",
   "execution_count": 16,
   "id": "71a0d7b4",
   "metadata": {},
   "outputs": [
    {
     "data": {
      "text/plain": [
       "{'A': 'one', 'B': 'two', 'C': 'three'}"
      ]
     },
     "execution_count": 16,
     "metadata": {},
     "output_type": "execute_result"
    }
   ],
   "source": [
    "mydict = {'A' : 'one', 'B' : 'two', 'C' : 'three'}\n",
    "mydict"
   ]
  },
  {
   "cell_type": "code",
   "execution_count": 17,
   "id": "3a8928ac",
   "metadata": {},
   "outputs": [
    {
     "data": {
      "text/plain": [
       "{1: 'one', 'A': 'two', 3: 'three'}"
      ]
     },
     "execution_count": 17,
     "metadata": {},
     "output_type": "execute_result"
    }
   ],
   "source": [
    "mydict = {1 : 'one', 'A' : 'two', 3 : 'three'}\n",
    "mydict"
   ]
  },
  {
   "cell_type": "code",
   "execution_count": 18,
   "id": "c6c93656",
   "metadata": {},
   "outputs": [
    {
     "data": {
      "text/plain": [
       "dict_keys([1, 'A', 3])"
      ]
     },
     "execution_count": 18,
     "metadata": {},
     "output_type": "execute_result"
    }
   ],
   "source": [
    "mydict.keys()"
   ]
  },
  {
   "cell_type": "code",
   "execution_count": 19,
   "id": "67772108",
   "metadata": {},
   "outputs": [
    {
     "data": {
      "text/plain": [
       "dict_values(['one', 'two', 'three'])"
      ]
     },
     "execution_count": 19,
     "metadata": {},
     "output_type": "execute_result"
    }
   ],
   "source": [
    "mydict.values()"
   ]
  },
  {
   "cell_type": "code",
   "execution_count": 20,
   "id": "30686f17",
   "metadata": {},
   "outputs": [
    {
     "data": {
      "text/plain": [
       "dict_items([(1, 'one'), ('A', 'two'), (3, 'three')])"
      ]
     },
     "execution_count": 20,
     "metadata": {},
     "output_type": "execute_result"
    }
   ],
   "source": [
    "mydict.items()"
   ]
  },
  {
   "cell_type": "code",
   "execution_count": 21,
   "id": "c22ee015",
   "metadata": {},
   "outputs": [
    {
     "data": {
      "text/plain": [
       "{1: 'one',\n",
       " 2: 'two',\n",
       " 'A': ['Doğu', 'İsmail', 'Azra'],\n",
       " 'B': ('Bat', 'Cat', 'Hat')}"
      ]
     },
     "execution_count": 21,
     "metadata": {},
     "output_type": "execute_result"
    }
   ],
   "source": [
    "mydict = {1 : 'one', 2 : 'two', 'A' : ['Doğu', 'İsmail', 'Azra'], 'B' : ('Bat', 'Cat', 'Hat')}\n",
    "mydict"
   ]
  },
  {
   "cell_type": "code",
   "execution_count": 22,
   "id": "4f470913",
   "metadata": {},
   "outputs": [
    {
     "data": {
      "text/plain": [
       "{1: 'one',\n",
       " 2: 'two',\n",
       " 'A': {'Name': 'Doğu', 'Age': 34},\n",
       " 'B': ('Bat', 'Cat', 'Hat')}"
      ]
     },
     "execution_count": 22,
     "metadata": {},
     "output_type": "execute_result"
    }
   ],
   "source": [
    "mydict = {1 : 'one', 2 : 'two', 'A' : {'Name' : 'Doğu', 'Age' : 34} , 'B' : ('Bat', 'Cat', 'Hat')}\n",
    "mydict"
   ]
  },
  {
   "cell_type": "code",
   "execution_count": 23,
   "id": "35bdb45e",
   "metadata": {},
   "outputs": [
    {
     "data": {
      "text/plain": [
       "{'c': None, 'a': None, 'd': None, 'b': None}"
      ]
     },
     "execution_count": 23,
     "metadata": {},
     "output_type": "execute_result"
    }
   ],
   "source": [
    "keys = {'a', 'b', 'c', 'd'}\n",
    "mydict3 = dict.fromkeys(keys)\n",
    "mydict3"
   ]
  },
  {
   "cell_type": "code",
   "execution_count": 24,
   "id": "ecc5cb81",
   "metadata": {},
   "outputs": [
    {
     "data": {
      "text/plain": [
       "{'c': 10, 'a': 10, 'd': 10, 'b': 10}"
      ]
     },
     "execution_count": 24,
     "metadata": {},
     "output_type": "execute_result"
    }
   ],
   "source": [
    "keys = {'a', 'b', 'c', 'd'}\n",
    "value = 10\n",
    "mydict3 = dict.fromkeys(keys, value)\n",
    "mydict3"
   ]
  },
  {
   "cell_type": "code",
   "execution_count": 25,
   "id": "2540c40c",
   "metadata": {},
   "outputs": [
    {
     "data": {
      "text/plain": [
       "{'c': [10, 20, 30], 'a': [10, 20, 30], 'd': [10, 20, 30], 'b': [10, 20, 30]}"
      ]
     },
     "execution_count": 25,
     "metadata": {},
     "output_type": "execute_result"
    }
   ],
   "source": [
    "keys = {'a', 'b', 'c', 'd'}\n",
    "value = [10, 20, 30]\n",
    "mydict3 = dict.fromkeys(keys, value)\n",
    "mydict3"
   ]
  },
  {
   "cell_type": "code",
   "execution_count": 26,
   "id": "73548a77",
   "metadata": {},
   "outputs": [
    {
     "data": {
      "text/plain": [
       "{'c': [10, 20, 30, 40],\n",
       " 'a': [10, 20, 30, 40],\n",
       " 'd': [10, 20, 30, 40],\n",
       " 'b': [10, 20, 30, 40]}"
      ]
     },
     "execution_count": 26,
     "metadata": {},
     "output_type": "execute_result"
    }
   ],
   "source": [
    "value.append(40)\n",
    "mydict3"
   ]
  },
  {
   "cell_type": "code",
   "execution_count": 27,
   "id": "12fba923",
   "metadata": {},
   "outputs": [
    {
     "data": {
      "text/plain": [
       "{10: {'a', 'b', 'c', 'd'}, 20: {'a', 'b', 'c', 'd'}, 30: {'a', 'b', 'c', 'd'}}"
      ]
     },
     "execution_count": 27,
     "metadata": {},
     "output_type": "execute_result"
    }
   ],
   "source": [
    "keys = [10, 20, 30]\n",
    "value = {'a', 'b', 'c', 'd'}\n",
    "mydict5 = dict.fromkeys(keys, value)\n",
    "mydict5"
   ]
  },
  {
   "cell_type": "code",
   "execution_count": 28,
   "id": "a6d07347",
   "metadata": {},
   "outputs": [
    {
     "data": {
      "text/plain": [
       "{1: 'one', 2: 'two', 3: 'three', 4: 'four'}"
      ]
     },
     "execution_count": 28,
     "metadata": {},
     "output_type": "execute_result"
    }
   ],
   "source": [
    "mydict = {1 : 'one', 2 : 'two', 3 : 'three', 4 : 'four'}\n",
    "mydict"
   ]
  },
  {
   "cell_type": "code",
   "execution_count": 29,
   "id": "5345599c",
   "metadata": {},
   "outputs": [
    {
     "data": {
      "text/plain": [
       "'one'"
      ]
     },
     "execution_count": 29,
     "metadata": {},
     "output_type": "execute_result"
    }
   ],
   "source": [
    "mydict[1]"
   ]
  },
  {
   "cell_type": "code",
   "execution_count": 30,
   "id": "cf78d8cc",
   "metadata": {},
   "outputs": [
    {
     "data": {
      "text/plain": [
       "'one'"
      ]
     },
     "execution_count": 30,
     "metadata": {},
     "output_type": "execute_result"
    }
   ],
   "source": [
    "mydict.get(1)"
   ]
  },
  {
   "cell_type": "code",
   "execution_count": 31,
   "id": "5fa28569",
   "metadata": {},
   "outputs": [],
   "source": [
    "mydict1 = {'Name' : 'Doğu', 'ID' : 210949, 'DOB' : 1989, 'Job' : 'Engineer'}"
   ]
  },
  {
   "cell_type": "code",
   "execution_count": 32,
   "id": "b5a06e8e",
   "metadata": {},
   "outputs": [
    {
     "data": {
      "text/plain": [
       "{'Name': 'Doğu', 'ID': 210949, 'DOB': 1989, 'Job': 'Engineer'}"
      ]
     },
     "execution_count": 32,
     "metadata": {},
     "output_type": "execute_result"
    }
   ],
   "source": [
    "mydict1"
   ]
  },
  {
   "cell_type": "code",
   "execution_count": 33,
   "id": "9c48a467",
   "metadata": {},
   "outputs": [
    {
     "data": {
      "text/plain": [
       "'Doğu'"
      ]
     },
     "execution_count": 33,
     "metadata": {},
     "output_type": "execute_result"
    }
   ],
   "source": [
    "mydict1['Name']"
   ]
  },
  {
   "cell_type": "code",
   "execution_count": 34,
   "id": "8e605df4",
   "metadata": {},
   "outputs": [
    {
     "data": {
      "text/plain": [
       "'Engineer'"
      ]
     },
     "execution_count": 34,
     "metadata": {},
     "output_type": "execute_result"
    }
   ],
   "source": [
    "mydict1.get('Job')"
   ]
  },
  {
   "cell_type": "code",
   "execution_count": 35,
   "id": "152d776d",
   "metadata": {},
   "outputs": [
    {
     "data": {
      "text/plain": [
       "{'Name': 'Doğu',\n",
       " 'ID': 210949,\n",
       " 'DOB': 1992,\n",
       " 'Job': 'Engineer',\n",
       " 'Address': 'Lefkoşa'}"
      ]
     },
     "execution_count": 35,
     "metadata": {},
     "output_type": "execute_result"
    }
   ],
   "source": [
    "#Ekleme, Silme ve Güncelleme\n",
    "mydict1 = {'Name' : 'Doğu', 'ID' : 210949, 'DOB' : 1989, 'Job' : 'Engineer'}\n",
    "mydict1['DOB'] = 1992\n",
    "mydict1['Address'] = 'Lefkoşa' \n",
    "mydict1"
   ]
  },
  {
   "cell_type": "code",
   "execution_count": 36,
   "id": "d35d1573",
   "metadata": {},
   "outputs": [
    {
     "data": {
      "text/plain": [
       "{'Name': 'Doğu',\n",
       " 'ID': 210949,\n",
       " 'DOB': 1992,\n",
       " 'Job': 'Engineer',\n",
       " 'Address': 'Girne'}"
      ]
     },
     "execution_count": 36,
     "metadata": {},
     "output_type": "execute_result"
    }
   ],
   "source": [
    "dict1 = {'Address' : 'Girne'}\n",
    "mydict1.update(dict1)\n",
    "mydict1"
   ]
  },
  {
   "cell_type": "code",
   "execution_count": 37,
   "id": "15374ae7",
   "metadata": {},
   "outputs": [
    {
     "data": {
      "text/plain": [
       "{'Name': 'Doğu',\n",
       " 'ID': 210949,\n",
       " 'DOB': 1995,\n",
       " 'Job': 'Engineer',\n",
       " 'Address': 'Girne'}"
      ]
     },
     "execution_count": 37,
     "metadata": {},
     "output_type": "execute_result"
    }
   ],
   "source": [
    "dict1 = {'DOB' : 1995}\n",
    "mydict1.update(dict1)\n",
    "mydict1"
   ]
  },
  {
   "cell_type": "code",
   "execution_count": 38,
   "id": "fa3bd432",
   "metadata": {},
   "outputs": [
    {
     "data": {
      "text/plain": [
       "{'Name': 'Doğu', 'ID': 210949, 'DOB': 1995, 'Address': 'Girne'}"
      ]
     },
     "execution_count": 38,
     "metadata": {},
     "output_type": "execute_result"
    }
   ],
   "source": [
    "mydict1.pop('Job')\n",
    "mydict1"
   ]
  },
  {
   "cell_type": "code",
   "execution_count": 39,
   "id": "beed27ad",
   "metadata": {},
   "outputs": [
    {
     "data": {
      "text/plain": [
       "('Address', 'Girne')"
      ]
     },
     "execution_count": 39,
     "metadata": {},
     "output_type": "execute_result"
    }
   ],
   "source": [
    "mydict1.popitem()"
   ]
  },
  {
   "cell_type": "code",
   "execution_count": 40,
   "id": "276b033c",
   "metadata": {},
   "outputs": [
    {
     "data": {
      "text/plain": [
       "{'Name': 'Doğu', 'ID': 210949, 'DOB': 1995}"
      ]
     },
     "execution_count": 40,
     "metadata": {},
     "output_type": "execute_result"
    }
   ],
   "source": [
    "mydict1"
   ]
  },
  {
   "cell_type": "code",
   "execution_count": 41,
   "id": "8736a98b",
   "metadata": {},
   "outputs": [
    {
     "data": {
      "text/plain": [
       "{'Name': 'Doğu', 'DOB': 1995}"
      ]
     },
     "execution_count": 41,
     "metadata": {},
     "output_type": "execute_result"
    }
   ],
   "source": [
    "del [mydict1['ID']]\n",
    "mydict1"
   ]
  },
  {
   "cell_type": "code",
   "execution_count": 42,
   "id": "836ba332",
   "metadata": {},
   "outputs": [
    {
     "data": {
      "text/plain": [
       "{}"
      ]
     },
     "execution_count": 42,
     "metadata": {},
     "output_type": "execute_result"
    }
   ],
   "source": [
    "mydict1.clear()\n",
    "mydict1"
   ]
  },
  {
   "cell_type": "code",
   "execution_count": 43,
   "id": "2d4184b8",
   "metadata": {},
   "outputs": [
    {
     "ename": "NameError",
     "evalue": "name 'mydict1' is not defined",
     "output_type": "error",
     "traceback": [
      "\u001b[1;31m---------------------------------------------------------------------------\u001b[0m",
      "\u001b[1;31mNameError\u001b[0m                                 Traceback (most recent call last)",
      "\u001b[1;32m<ipython-input-43-a5f568839d89>\u001b[0m in \u001b[0;36m<module>\u001b[1;34m\u001b[0m\n\u001b[0;32m      1\u001b[0m \u001b[1;32mdel\u001b[0m \u001b[0mmydict1\u001b[0m\u001b[1;33m\u001b[0m\u001b[1;33m\u001b[0m\u001b[0m\n\u001b[1;32m----> 2\u001b[1;33m \u001b[0mmydict1\u001b[0m\u001b[1;33m\u001b[0m\u001b[1;33m\u001b[0m\u001b[0m\n\u001b[0m",
      "\u001b[1;31mNameError\u001b[0m: name 'mydict1' is not defined"
     ]
    }
   ],
   "source": [
    "del mydict1\n",
    "mydict1"
   ]
  },
  {
   "cell_type": "code",
   "execution_count": 44,
   "id": "8f53a707",
   "metadata": {},
   "outputs": [
    {
     "data": {
      "text/plain": [
       "{'Name': 'Doğu', 'ID': 210949, 'DOB': 1989, 'Address': 'Helsinki'}"
      ]
     },
     "execution_count": 44,
     "metadata": {},
     "output_type": "execute_result"
    }
   ],
   "source": [
    "#Kopyalama\n",
    "mydict2 = {'Name' : 'Doğu', 'ID' : 210949, 'DOB' : 1989, 'Address' : 'Helsinki'}\n",
    "mydict2"
   ]
  },
  {
   "cell_type": "code",
   "execution_count": 45,
   "id": "36622bd5",
   "metadata": {},
   "outputs": [],
   "source": [
    "mydict22 = mydict2"
   ]
  },
  {
   "cell_type": "code",
   "execution_count": 46,
   "id": "46ed8659",
   "metadata": {},
   "outputs": [
    {
     "data": {
      "text/plain": [
       "(2102337780352, 2102337780352)"
      ]
     },
     "execution_count": 46,
     "metadata": {},
     "output_type": "execute_result"
    }
   ],
   "source": [
    "id(mydict2), id(mydict22)"
   ]
  },
  {
   "cell_type": "code",
   "execution_count": 47,
   "id": "50b2a22d",
   "metadata": {},
   "outputs": [],
   "source": [
    "mydict222 = mydict2.copy()"
   ]
  },
  {
   "cell_type": "code",
   "execution_count": 48,
   "id": "97d275bf",
   "metadata": {},
   "outputs": [
    {
     "data": {
      "text/plain": [
       "2102338484608"
      ]
     },
     "execution_count": 48,
     "metadata": {},
     "output_type": "execute_result"
    }
   ],
   "source": [
    "id(mydict222)"
   ]
  },
  {
   "cell_type": "code",
   "execution_count": 49,
   "id": "e151ba89",
   "metadata": {},
   "outputs": [],
   "source": [
    "mydict2['Address'] = 'Lefkoşa'"
   ]
  },
  {
   "cell_type": "code",
   "execution_count": 50,
   "id": "c41dbd02",
   "metadata": {},
   "outputs": [
    {
     "data": {
      "text/plain": [
       "{'Name': 'Doğu', 'ID': 210949, 'DOB': 1989, 'Address': 'Lefkoşa'}"
      ]
     },
     "execution_count": 50,
     "metadata": {},
     "output_type": "execute_result"
    }
   ],
   "source": [
    "mydict2"
   ]
  },
  {
   "cell_type": "code",
   "execution_count": 51,
   "id": "9fb30356",
   "metadata": {},
   "outputs": [
    {
     "data": {
      "text/plain": [
       "{'Name': 'Doğu', 'ID': 210949, 'DOB': 1989, 'Address': 'Lefkoşa'}"
      ]
     },
     "execution_count": 51,
     "metadata": {},
     "output_type": "execute_result"
    }
   ],
   "source": [
    "mydict22"
   ]
  },
  {
   "cell_type": "code",
   "execution_count": 52,
   "id": "4201cbab",
   "metadata": {},
   "outputs": [
    {
     "data": {
      "text/plain": [
       "{'Name': 'Doğu', 'ID': 210949, 'DOB': 1989, 'Address': 'Helsinki'}"
      ]
     },
     "execution_count": 52,
     "metadata": {},
     "output_type": "execute_result"
    }
   ],
   "source": [
    "mydict222"
   ]
  },
  {
   "cell_type": "code",
   "execution_count": 53,
   "id": "38574214",
   "metadata": {},
   "outputs": [],
   "source": [
    "#Sözlük Üzerinde İterasyon"
   ]
  },
  {
   "cell_type": "code",
   "execution_count": 54,
   "id": "32dfb72a",
   "metadata": {},
   "outputs": [
    {
     "data": {
      "text/plain": [
       "{'Name': 'İsmail',\n",
       " 'ID': 12345,\n",
       " 'DOB': 1991,\n",
       " 'Address': 'Helsinki',\n",
       " 'Job': 'Analyst'}"
      ]
     },
     "execution_count": 54,
     "metadata": {},
     "output_type": "execute_result"
    }
   ],
   "source": [
    "mydict1 = {'Name' : 'İsmail', 'ID' : 12345, 'DOB' : 1991, 'Address' : 'Helsinki', 'Job' : 'Analyst'}\n",
    "mydict1"
   ]
  },
  {
   "cell_type": "code",
   "execution_count": 55,
   "id": "ff8590d4",
   "metadata": {},
   "outputs": [
    {
     "name": "stdout",
     "output_type": "stream",
     "text": [
      "Name : İsmail\n",
      "ID : 12345\n",
      "DOB : 1991\n",
      "Address : Helsinki\n",
      "Job : Analyst\n"
     ]
    }
   ],
   "source": [
    "for i in mydict1:\n",
    "    print(i, ':', mydict1[i])"
   ]
  },
  {
   "cell_type": "code",
   "execution_count": 56,
   "id": "98409631",
   "metadata": {},
   "outputs": [
    {
     "name": "stdout",
     "output_type": "stream",
     "text": [
      "İsmail\n",
      "12345\n",
      "1991\n",
      "Helsinki\n",
      "Analyst\n"
     ]
    }
   ],
   "source": [
    "for i in mydict1:\n",
    "    print(mydict1[i])"
   ]
  },
  {
   "cell_type": "code",
   "execution_count": 57,
   "id": "cb261122",
   "metadata": {},
   "outputs": [],
   "source": [
    "#Sözlük Üyelikleri (IN / NOT IN)"
   ]
  },
  {
   "cell_type": "code",
   "execution_count": 58,
   "id": "45404c96",
   "metadata": {},
   "outputs": [
    {
     "data": {
      "text/plain": [
       "{'Name': 'Doğu', 'ID': 123456, 'DOB': 1989, 'Job': 'Analyst'}"
      ]
     },
     "execution_count": 58,
     "metadata": {},
     "output_type": "execute_result"
    }
   ],
   "source": [
    "mydict1 = {'Name' : 'Doğu', 'ID' : 123456, 'DOB' : 1989, 'Job' : 'Analyst'}\n",
    "mydict1"
   ]
  },
  {
   "cell_type": "code",
   "execution_count": 59,
   "id": "db948c4d",
   "metadata": {},
   "outputs": [
    {
     "data": {
      "text/plain": [
       "True"
      ]
     },
     "execution_count": 59,
     "metadata": {},
     "output_type": "execute_result"
    }
   ],
   "source": [
    "'Name' in mydict1"
   ]
  },
  {
   "cell_type": "code",
   "execution_count": 60,
   "id": "421cda28",
   "metadata": {},
   "outputs": [
    {
     "data": {
      "text/plain": [
       "False"
      ]
     },
     "execution_count": 60,
     "metadata": {},
     "output_type": "execute_result"
    }
   ],
   "source": [
    "'Doğu' in mydict1"
   ]
  },
  {
   "cell_type": "code",
   "execution_count": 61,
   "id": "d2d4c9e4",
   "metadata": {},
   "outputs": [
    {
     "data": {
      "text/plain": [
       "True"
      ]
     },
     "execution_count": 61,
     "metadata": {},
     "output_type": "execute_result"
    }
   ],
   "source": [
    "'ID' in mydict1"
   ]
  },
  {
   "cell_type": "code",
   "execution_count": 62,
   "id": "32e40db9",
   "metadata": {},
   "outputs": [
    {
     "data": {
      "text/plain": [
       "False"
      ]
     },
     "execution_count": 62,
     "metadata": {},
     "output_type": "execute_result"
    }
   ],
   "source": [
    "'Address' in mydict1"
   ]
  },
  {
   "cell_type": "code",
   "execution_count": 63,
   "id": "600e4faf",
   "metadata": {},
   "outputs": [],
   "source": [
    "#All / Any"
   ]
  },
  {
   "cell_type": "code",
   "execution_count": 64,
   "id": "d9a8f58c",
   "metadata": {},
   "outputs": [
    {
     "data": {
      "text/plain": [
       "{'Name': 'Doğu', 'ID': 123456, 'DOB': 1989, 'Job': 'Analyst'}"
      ]
     },
     "execution_count": 64,
     "metadata": {},
     "output_type": "execute_result"
    }
   ],
   "source": [
    "mydict1 = {'Name' : 'Doğu', 'ID' : 123456, 'DOB' : 1989, 'Job' : 'Analyst'}\n",
    "mydict1"
   ]
  },
  {
   "cell_type": "code",
   "execution_count": 65,
   "id": "781fb91e",
   "metadata": {},
   "outputs": [
    {
     "data": {
      "text/plain": [
       "True"
      ]
     },
     "execution_count": 65,
     "metadata": {},
     "output_type": "execute_result"
    }
   ],
   "source": [
    "all(mydict1)"
   ]
  },
  {
   "cell_type": "code",
   "execution_count": 66,
   "id": "5e4fef00",
   "metadata": {},
   "outputs": [
    {
     "data": {
      "text/plain": [
       "True"
      ]
     },
     "execution_count": 66,
     "metadata": {},
     "output_type": "execute_result"
    }
   ],
   "source": [
    "any(mydict1)"
   ]
  },
  {
   "cell_type": "code",
   "execution_count": 67,
   "id": "b516aad9",
   "metadata": {},
   "outputs": [
    {
     "data": {
      "text/plain": [
       "{'Name': 'Doğu', 'ID': 123456, 'DOB': 1989, 'Job': 'Analyst', 0: 'test1'}"
      ]
     },
     "execution_count": 67,
     "metadata": {},
     "output_type": "execute_result"
    }
   ],
   "source": [
    "mydict1[0] = 'test1'\n",
    "mydict1"
   ]
  },
  {
   "cell_type": "code",
   "execution_count": 68,
   "id": "08286e85",
   "metadata": {},
   "outputs": [
    {
     "data": {
      "text/plain": [
       "False"
      ]
     },
     "execution_count": 68,
     "metadata": {},
     "output_type": "execute_result"
    }
   ],
   "source": [
    "all(mydict1)"
   ]
  },
  {
   "cell_type": "code",
   "execution_count": 69,
   "id": "c45178a8",
   "metadata": {},
   "outputs": [
    {
     "data": {
      "text/plain": [
       "True"
      ]
     },
     "execution_count": 69,
     "metadata": {},
     "output_type": "execute_result"
    }
   ],
   "source": [
    "any(mydict1)"
   ]
  },
  {
   "cell_type": "code",
   "execution_count": 70,
   "id": "ae46e088",
   "metadata": {},
   "outputs": [],
   "source": [
    "#Dictionary Comprehension"
   ]
  },
  {
   "cell_type": "code",
   "execution_count": 71,
   "id": "82c746bf",
   "metadata": {},
   "outputs": [
    {
     "data": {
      "text/plain": [
       "{0: 0, 1: 2, 2: 4, 3: 6, 4: 8, 5: 10, 6: 12, 7: 14, 8: 16, 9: 18}"
      ]
     },
     "execution_count": 71,
     "metadata": {},
     "output_type": "execute_result"
    }
   ],
   "source": [
    "double = {i : i*2 for i in range(10)}\n",
    "double"
   ]
  },
  {
   "cell_type": "code",
   "execution_count": 72,
   "id": "38f62e4f",
   "metadata": {},
   "outputs": [],
   "source": [
    "square = {i : i**2 for i in range(10)}"
   ]
  },
  {
   "cell_type": "code",
   "execution_count": 73,
   "id": "fbcd2e73",
   "metadata": {},
   "outputs": [
    {
     "data": {
      "text/plain": [
       "{0: 0, 1: 1, 2: 4, 3: 9, 4: 16, 5: 25, 6: 36, 7: 49, 8: 64, 9: 81}"
      ]
     },
     "execution_count": 73,
     "metadata": {},
     "output_type": "execute_result"
    }
   ],
   "source": [
    "square"
   ]
  },
  {
   "cell_type": "code",
   "execution_count": 74,
   "id": "01056717",
   "metadata": {},
   "outputs": [],
   "source": [
    "# {key : value for var in iterable}"
   ]
  },
  {
   "cell_type": "code",
   "execution_count": 75,
   "id": "a356480d",
   "metadata": {},
   "outputs": [
    {
     "data": {
      "text/plain": [
       "{'one': 1, 'two': 2, 'three': 3, 'four': 4, 'five': 5}"
      ]
     },
     "execution_count": 75,
     "metadata": {},
     "output_type": "execute_result"
    }
   ],
   "source": [
    "key = ['one', 'two', 'three', 'four', 'five']\n",
    "value = [1,2,3,4,5]\n",
    "mydict = {k : v for (k, v) in zip(key, value)}\n",
    "mydict"
   ]
  },
  {
   "cell_type": "code",
   "execution_count": 76,
   "id": "9c33a635",
   "metadata": {},
   "outputs": [
    {
     "data": {
      "text/plain": [
       "{'a': 1.0, 'b': 2.0, 'c': 3.0, 'd': 4.0, 'e': 5.0}"
      ]
     },
     "execution_count": 76,
     "metadata": {},
     "output_type": "execute_result"
    }
   ],
   "source": [
    "mydict1 = {'a' : 10, 'b' : 20, 'c' : 30, 'd' : 40, 'e' : 50}\n",
    "mydict1 = {k : v / 10 for (k,v) in mydict1.items()}\n",
    "mydict1"
   ]
  },
  {
   "cell_type": "code",
   "execution_count": 77,
   "id": "6263b7ba",
   "metadata": {},
   "outputs": [
    {
     "data": {
      "text/plain": [
       "{0: 'N',\n",
       " 1: 'a',\n",
       " 2: 't',\n",
       " 3: 'u',\n",
       " 4: 'r',\n",
       " 5: 'a',\n",
       " 6: 'l',\n",
       " 7: ' ',\n",
       " 8: 'L',\n",
       " 9: 'a',\n",
       " 10: 'n',\n",
       " 11: 'g',\n",
       " 12: 'u',\n",
       " 13: 'a',\n",
       " 14: 'g',\n",
       " 15: 'e',\n",
       " 16: ' ',\n",
       " 17: 'P',\n",
       " 18: 'r',\n",
       " 19: 'o',\n",
       " 20: 'c',\n",
       " 21: 'e',\n",
       " 22: 's',\n",
       " 23: 's',\n",
       " 24: 'i',\n",
       " 25: 'n',\n",
       " 26: 'g'}"
      ]
     },
     "execution_count": 77,
     "metadata": {},
     "output_type": "execute_result"
    }
   ],
   "source": [
    "str1 = 'Natural Language Processing'\n",
    "\n",
    "mydict2 = {k : v for (k, v) in enumerate(str1)}\n",
    "mydict2"
   ]
  },
  {
   "cell_type": "code",
   "execution_count": 78,
   "id": "863c86ab",
   "metadata": {},
   "outputs": [
    {
     "data": {
      "text/plain": [
       "{'a': 'A',\n",
       " 'b': 'B',\n",
       " 'c': 'C',\n",
       " 'd': 'D',\n",
       " 'e': 'E',\n",
       " 'f': 'F',\n",
       " 'g': 'G',\n",
       " 'h': 'H',\n",
       " 'i': 'I',\n",
       " 'j': 'J',\n",
       " 'k': 'K',\n",
       " 'l': 'L',\n",
       " 'm': 'M',\n",
       " 'n': 'N',\n",
       " 'o': 'O',\n",
       " 'p': 'P',\n",
       " 'r': 'R',\n",
       " 's': 'S',\n",
       " 't': 'T',\n",
       " 'u': 'U',\n",
       " 'v': 'V',\n",
       " 'x': 'X',\n",
       " 'y': 'Y',\n",
       " 'z': 'Z'}"
      ]
     },
     "execution_count": 78,
     "metadata": {},
     "output_type": "execute_result"
    }
   ],
   "source": [
    "str1 = \"abcdefghijklmnoprstuvxyz\"\n",
    "mydict3 = {i : i.upper() for i in str1}\n",
    "mydict3"
   ]
  },
  {
   "cell_type": "code",
   "execution_count": 79,
   "id": "4fa741ea",
   "metadata": {},
   "outputs": [],
   "source": [
    "mystr4 = \"one two three four one two two three five five six seven six seven one two three four five\"\n",
    "\n",
    "mylist = mystr4.split()"
   ]
  },
  {
   "cell_type": "code",
   "execution_count": 80,
   "id": "049476b5",
   "metadata": {},
   "outputs": [
    {
     "data": {
      "text/plain": [
       "['one',\n",
       " 'two',\n",
       " 'three',\n",
       " 'four',\n",
       " 'one',\n",
       " 'two',\n",
       " 'two',\n",
       " 'three',\n",
       " 'five',\n",
       " 'five',\n",
       " 'six',\n",
       " 'seven',\n",
       " 'six',\n",
       " 'seven',\n",
       " 'one',\n",
       " 'two',\n",
       " 'three',\n",
       " 'four',\n",
       " 'five']"
      ]
     },
     "execution_count": 80,
     "metadata": {},
     "output_type": "execute_result"
    }
   ],
   "source": [
    "mylist"
   ]
  },
  {
   "cell_type": "code",
   "execution_count": 81,
   "id": "16595597",
   "metadata": {},
   "outputs": [
    {
     "data": {
      "text/plain": [
       "['two', 'one', 'four', 'three', 'seven', 'six', 'five']"
      ]
     },
     "execution_count": 81,
     "metadata": {},
     "output_type": "execute_result"
    }
   ],
   "source": [
    "mylist1 = set(mylist)\n",
    "mylist1 = list(mylist1)\n",
    "mylist1"
   ]
  },
  {
   "cell_type": "code",
   "execution_count": null,
   "id": "eb526afa",
   "metadata": {},
   "outputs": [],
   "source": []
  }
 ],
 "metadata": {
  "kernelspec": {
   "display_name": "Python 3",
   "language": "python",
   "name": "python3"
  },
  "language_info": {
   "codemirror_mode": {
    "name": "ipython",
    "version": 3
   },
   "file_extension": ".py",
   "mimetype": "text/x-python",
   "name": "python",
   "nbconvert_exporter": "python",
   "pygments_lexer": "ipython3",
   "version": "3.8.8"
  }
 },
 "nbformat": 4,
 "nbformat_minor": 5
}
