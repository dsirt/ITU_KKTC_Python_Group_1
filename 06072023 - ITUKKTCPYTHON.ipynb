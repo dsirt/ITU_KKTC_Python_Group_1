{
 "cells": [
  {
   "cell_type": "code",
   "execution_count": 1,
   "id": "2978304c",
   "metadata": {},
   "outputs": [],
   "source": [
    "#Sınıflar (Class) & Nesneler (Object)"
   ]
  },
  {
   "cell_type": "code",
   "execution_count": 2,
   "id": "235c21c9",
   "metadata": {},
   "outputs": [],
   "source": [
    "#Bütün sınıflarda __init__() isminde bir fonksiyon bulunur. Bu fonksiyon sayesinde\n",
    "#sınıf başlatılır."
   ]
  },
  {
   "cell_type": "code",
   "execution_count": 4,
   "id": "87f9695d",
   "metadata": {},
   "outputs": [],
   "source": [
    "#self parametresi, mevcut sınıfın örneğini (instance) işaret eder ve sınıf değişkenlerine erişim\n",
    "#için kullanılır. Sınıf içerisindeki herhangi bir fonksiyonun ilk parametresi olmalıdır."
   ]
  },
  {
   "cell_type": "code",
   "execution_count": 5,
   "id": "296cd19e",
   "metadata": {},
   "outputs": [],
   "source": [
    "#super() - temel sınıfın (base class) fonksiyonlarına erişim için kullanılan geçici nesne."
   ]
  },
  {
   "cell_type": "code",
   "execution_count": 6,
   "id": "387ad3d4",
   "metadata": {},
   "outputs": [
    {
     "data": {
      "text/plain": [
       "'\\nclass myclass:\\n    def __init__(self, var1, var2):\\n        self.var1 = var1\\n        self.var2 = var2\\n\\n    def myfunc1(self):\\n        print(self.var1)\\n        print(self.var2)\\n'"
      ]
     },
     "execution_count": 6,
     "metadata": {},
     "output_type": "execute_result"
    }
   ],
   "source": [
    "\"\"\"\n",
    "class myclass:\n",
    "    def __init__(self, var1, var2):\n",
    "        self.var1 = var1\n",
    "        self.var2 = var2\n",
    "\n",
    "    def myfunc1(self):\n",
    "        print(self.var1)\n",
    "        print(self.var2)\n",
    "\"\"\""
   ]
  },
  {
   "cell_type": "code",
   "execution_count": 7,
   "id": "e0d27f76",
   "metadata": {},
   "outputs": [
    {
     "name": "stdout",
     "output_type": "stream",
     "text": [
      "10\n"
     ]
    }
   ],
   "source": [
    "class myclass:\n",
    "    var1 = 10\n",
    "    \n",
    "obj1 = myclass()\n",
    "print(obj1.var1)"
   ]
  },
  {
   "cell_type": "code",
   "execution_count": 8,
   "id": "e2b9278d",
   "metadata": {},
   "outputs": [
    {
     "name": "stdout",
     "output_type": "stream",
     "text": [
      "Name :-  Doğu\n",
      "Employee ID  34163\n",
      "Thanks for joining ABC Company Doğu!!\n"
     ]
    }
   ],
   "source": [
    "class Employee:\n",
    "    def __init__(self, name, empid):\n",
    "        self.name = name\n",
    "        self.empid = empid\n",
    "        \n",
    "    def greet(self):\n",
    "        print('Thanks for joining ABC Company {}!!'.format(self.name))\n",
    "        \n",
    "emp1 = Employee(\"Doğu\", 34163)\n",
    "\n",
    "print('Name :- ', emp1.name)\n",
    "print('Employee ID ', emp1.empid)\n",
    "emp1.greet()"
   ]
  },
  {
   "cell_type": "code",
   "execution_count": 9,
   "id": "86436a88",
   "metadata": {},
   "outputs": [
    {
     "data": {
      "text/plain": [
       "'Batı'"
      ]
     },
     "execution_count": 9,
     "metadata": {},
     "output_type": "execute_result"
    }
   ],
   "source": [
    "emp1.name = 'Batı'\n",
    "emp1.name"
   ]
  },
  {
   "cell_type": "code",
   "execution_count": 11,
   "id": "24fd6e8d",
   "metadata": {},
   "outputs": [
    {
     "ename": "AttributeError",
     "evalue": "empid",
     "output_type": "error",
     "traceback": [
      "\u001b[1;31m---------------------------------------------------------------------------\u001b[0m",
      "\u001b[1;31mAttributeError\u001b[0m                            Traceback (most recent call last)",
      "\u001b[1;32m<ipython-input-11-3bd7df91569c>\u001b[0m in \u001b[0;36m<module>\u001b[1;34m\u001b[0m\n\u001b[1;32m----> 1\u001b[1;33m \u001b[1;32mdel\u001b[0m \u001b[0memp1\u001b[0m\u001b[1;33m.\u001b[0m\u001b[0mempid\u001b[0m\u001b[1;33m\u001b[0m\u001b[1;33m\u001b[0m\u001b[0m\n\u001b[0m\u001b[0;32m      2\u001b[0m \u001b[0memp1\u001b[0m\u001b[1;33m.\u001b[0m\u001b[0mempid\u001b[0m\u001b[1;33m\u001b[0m\u001b[1;33m\u001b[0m\u001b[0m\n",
      "\u001b[1;31mAttributeError\u001b[0m: empid"
     ]
    }
   ],
   "source": [
    "del emp1.empid\n",
    "emp1.empid"
   ]
  },
  {
   "cell_type": "code",
   "execution_count": 12,
   "id": "322f70c7",
   "metadata": {},
   "outputs": [
    {
     "ename": "NameError",
     "evalue": "name 'emp1' is not defined",
     "output_type": "error",
     "traceback": [
      "\u001b[1;31m---------------------------------------------------------------------------\u001b[0m",
      "\u001b[1;31mNameError\u001b[0m                                 Traceback (most recent call last)",
      "\u001b[1;32m<ipython-input-12-0b43e47f34a0>\u001b[0m in \u001b[0;36m<module>\u001b[1;34m\u001b[0m\n\u001b[0;32m      1\u001b[0m \u001b[1;32mdel\u001b[0m \u001b[0memp1\u001b[0m\u001b[1;33m\u001b[0m\u001b[1;33m\u001b[0m\u001b[0m\n\u001b[1;32m----> 2\u001b[1;33m \u001b[0memp1\u001b[0m\u001b[1;33m\u001b[0m\u001b[1;33m\u001b[0m\u001b[0m\n\u001b[0m",
      "\u001b[1;31mNameError\u001b[0m: name 'emp1' is not defined"
     ]
    }
   ],
   "source": [
    "del emp1\n",
    "emp1"
   ]
  },
  {
   "cell_type": "code",
   "execution_count": 13,
   "id": "fa629bfa",
   "metadata": {},
   "outputs": [
    {
     "name": "stdout",
     "output_type": "stream",
     "text": [
      "Name :-  Michael\n",
      "Employee ID :-  34162\n",
      "Thanks for joining ABC Company Michael!!\n"
     ]
    }
   ],
   "source": [
    "emp2 = Employee(\"Michael\", 34162)\n",
    "\n",
    "print('Name :- ', emp2.name)\n",
    "print('Employee ID :- ', emp2.empid)\n",
    "emp2.greet()"
   ]
  },
  {
   "cell_type": "code",
   "execution_count": 14,
   "id": "6782d336",
   "metadata": {},
   "outputs": [
    {
     "data": {
      "text/plain": [
       "'Turkiye'"
      ]
     },
     "execution_count": 14,
     "metadata": {},
     "output_type": "execute_result"
    }
   ],
   "source": [
    "emp2.country = 'Turkiye'\n",
    "emp2.country"
   ]
  },
  {
   "cell_type": "code",
   "execution_count": 15,
   "id": "32c1b1d2",
   "metadata": {},
   "outputs": [],
   "source": [
    "#Miras (Inheritance)"
   ]
  },
  {
   "cell_type": "code",
   "execution_count": 16,
   "id": "e203c9d9",
   "metadata": {},
   "outputs": [],
   "source": [
    "#(Base, Super, Parent Class) -> (Derived, Sub, Child Class)\n",
    "#STUDENT (Child Class) IS A PERSON (Parent Class)\n",
    "#Person -> Attributes : Name, Age, Gender , Methods : __init__, PersonInfo()\n",
    "#As Child Class, Student -> Attributes : StudentID, Fees, Methods :  __init__(), StudentInfo()\n",
    "#As 2nd Child Class, Teacher -> Attributes : EmpID, Salary , Methods : __init__(), TeacherInfo()"
   ]
  },
  {
   "cell_type": "code",
   "execution_count": 19,
   "id": "fcccc338",
   "metadata": {},
   "outputs": [
    {
     "name": "stdout",
     "output_type": "stream",
     "text": [
      "Student Details\n",
      "---------------\n",
      "Name :- Doğu\n",
      "Age :- 34\n",
      "Gender :- Male\n",
      "StudentID :- 123\n",
      "Fees :- 12000\n",
      "\n",
      "Employee Details\n",
      "----------------\n",
      "Name :- Batı\n",
      "Age :- 35\n",
      "Gender :- Male\n",
      "Employee ID :- 456\n",
      "Salary :- 80000\n"
     ]
    }
   ],
   "source": [
    "class person:\n",
    "    def __init__(self, name, age, gender):\n",
    "        self.name = name\n",
    "        self.age = age\n",
    "        self.gender = gender\n",
    "        \n",
    "    def PersonInfo(self):\n",
    "        print('Name :- {}'.format(self.name))\n",
    "        print('Age :- {}'.format(self.age))\n",
    "        print('Gender :- {}'.format(self.gender))\n",
    "        \n",
    "class student(person):\n",
    "    def __init__(self, name, age, gender, studentID, fees):\n",
    "        person.__init__(self, name, age, gender)\n",
    "        self.studentID = studentID\n",
    "        self.fees = fees\n",
    "        \n",
    "    def StudentInfo(self):\n",
    "        print('StudentID :- {}'.format(self.studentID))\n",
    "        print('Fees :- {}'.format(self.fees))\n",
    "        \n",
    "        \n",
    "class teacher(person):\n",
    "    def __init__(self, name, age, gender, empID, salary):\n",
    "        person.__init__(self, name, age, gender)\n",
    "        self.empID = empID\n",
    "        self.salary = salary\n",
    "        \n",
    "    def TeacherInfo(self):\n",
    "        print('Employee ID :- {}'.format(self.empID))\n",
    "        print('Salary :- {}'.format(self.salary))\n",
    "        \n",
    "stud1 = student('Doğu', 34, 'Male', 123, 12000)\n",
    "print('Student Details')\n",
    "print('---------------')\n",
    "stud1.PersonInfo()\n",
    "stud1.StudentInfo()\n",
    "print()\n",
    "\n",
    "teacher1 = teacher('Batı', 35, 'Male', 456, 80000)\n",
    "print('Employee Details')\n",
    "print('----------------')\n",
    "teacher1.PersonInfo()\n",
    "teacher1.TeacherInfo()"
   ]
  },
  {
   "cell_type": "code",
   "execution_count": 21,
   "id": "62a4654a",
   "metadata": {},
   "outputs": [
    {
     "name": "stdout",
     "output_type": "stream",
     "text": [
      "Student Details\n",
      "---------------\n",
      "Name :- Ayşe\n",
      "Age :- 24\n",
      "Gender :- Female\n",
      "StudentID :- 123\n",
      "Fees :- 15000\n"
     ]
    }
   ],
   "source": [
    "#super()\n",
    "class person:\n",
    "    def __init__(self, name, age, gender):\n",
    "        self.name = name\n",
    "        self.age = age\n",
    "        self.gender = gender\n",
    "        \n",
    "    def PersonInfo(self):\n",
    "        print('Name :- {}'.format(self.name))\n",
    "        print('Age :- {}'.format(self.age))\n",
    "        print('Gender :- {}'.format(self.gender))\n",
    "        \n",
    "class student(person):\n",
    "    def __init__(self, name, age, gender, studentID, fees):\n",
    "        super().__init__(name, age, gender)\n",
    "        self.studentID = studentID\n",
    "        self.fees = fees\n",
    "        \n",
    "    def StudentInfo(self):\n",
    "        print('StudentID :- {}'.format(self.studentID))\n",
    "        print('Fees :- {}'.format(self.fees))\n",
    "        \n",
    "stud = student('Ayşe', 24, 'Female', 123, 15000)\n",
    "print('Student Details')\n",
    "print('---------------')\n",
    "stud.PersonInfo()\n",
    "stud.StudentInfo()"
   ]
  },
  {
   "cell_type": "code",
   "execution_count": 22,
   "id": "f701a9c5",
   "metadata": {},
   "outputs": [],
   "source": [
    "#Multi-level Inheritance (Çok-Seviyeli Miras Alma)"
   ]
  },
  {
   "cell_type": "code",
   "execution_count": 23,
   "id": "366cc2a5",
   "metadata": {},
   "outputs": [],
   "source": [
    "#Person -> Attributes : Name, Age, Gender , Methods : __init__, PersonInfo()\n",
    "#Child Class, Employee -> Attributes : EmpID, Salary , Methods : __init__(), EmployeeInfo()\n",
    "#Child Class (2nd Depth) Fulltime -> Attributes : WorkExperience, Methods : __init__(), FulltimeInfo()\n",
    "#Child Class (2nd Depth) Contractual -> Attributes : ContractExpiry, Methods : __init__(), ContractInfo()"
   ]
  },
  {
   "cell_type": "code",
   "execution_count": 25,
   "id": "62759ce0",
   "metadata": {},
   "outputs": [
    {
     "name": "stdout",
     "output_type": "stream",
     "text": [
      "Contractual Employee Details\n",
      "****************************\n",
      "Name :- Batı\n",
      "Age :- 36\n",
      "Gender :- Male\n",
      "Employee ID :- 456\n",
      "Salary :- 80000\n",
      "Contract Expiry :- 06-07-2023\n",
      "\n",
      " \n",
      "\n",
      "Fulltime Employee Details\n",
      "****************************\n",
      "Name :- Ayşe\n",
      "Age :- 22\n",
      "Gender :- Female\n",
      "Employee ID :- 567\n",
      "Salary :- 100000\n",
      "Work Experience :- 12\n"
     ]
    }
   ],
   "source": [
    "class person:\n",
    "    def __init__(self, name, age, gender):\n",
    "        self.name = name\n",
    "        self.age = age\n",
    "        self.gender = gender\n",
    "        \n",
    "    def PersonInfo(self):\n",
    "        print('Name :- {}'.format(self.name))\n",
    "        print('Age :- {}'.format(self.age))\n",
    "        print('Gender :- {}'.format(self.gender))\n",
    "        \n",
    "class employee(person):\n",
    "    def __init__(self, name, age, gender, empID, salary):\n",
    "        person.__init__(self, name, age, gender)\n",
    "        self.empID = empID\n",
    "        self.salary = salary\n",
    "        \n",
    "    def EmployeeInfo(self):\n",
    "        print('Employee ID :- {}'.format(self.empID))\n",
    "        print('Salary :- {}'.format(self.salary))\n",
    "        \n",
    "\n",
    "class fulltime(employee):\n",
    "    def __init__(self, name, age, gender, empID, salary, WorkExperience):\n",
    "        employee.__init__(self, name, age, gender, empID, salary)\n",
    "        self.WorkExperience = WorkExperience\n",
    "        \n",
    "    def FullTimeInfo(self):\n",
    "        print('Work Experience :- {}'.format(self.WorkExperience))\n",
    "        \n",
    "class contractual(employee):\n",
    "    def __init__(self, name, age, gender, empID, salary, ContractExpiry):\n",
    "        employee.__init__(self, name, age, gender, empID, salary)\n",
    "        self.ContractExpiry = ContractExpiry\n",
    "        \n",
    "    def ContractualInfo(self):\n",
    "        print('Contract Expiry :- {}'.format(self.ContractExpiry))\n",
    "        \n",
    "\n",
    "print('Contractual Employee Details')\n",
    "print('****************************')\n",
    "contract1 = contractual('Batı', 36, 'Male', 456, 80000, '06-07-2023')\n",
    "contract1.PersonInfo()\n",
    "contract1.EmployeeInfo()\n",
    "contract1.ContractualInfo()\n",
    "\n",
    "print('\\n \\n')\n",
    "\n",
    "print('Fulltime Employee Details')\n",
    "print('****************************')\n",
    "fulltim1 = fulltime('Ayşe', 22, 'Female', 567, 100000, 12)\n",
    "fulltim1.PersonInfo()\n",
    "fulltim1.EmployeeInfo()\n",
    "fulltim1.FullTimeInfo()"
   ]
  },
  {
   "cell_type": "code",
   "execution_count": 27,
   "id": "27465899",
   "metadata": {},
   "outputs": [
    {
     "data": {
      "text/plain": [
       "'\\n1st Level -> Father, Attributes : FatherName, Methods : __init__()\\n1st Level -> Mother, Attributes : MotherName, Methods : __init__()\\nAs Child Class -> Son, Attributes : Name, Methods : show()\\n'"
      ]
     },
     "execution_count": 27,
     "metadata": {},
     "output_type": "execute_result"
    }
   ],
   "source": [
    "#Multiple Inheritance\n",
    "\"\"\"\n",
    "1st Level -> Father, Attributes : FatherName, Methods : __init__()\n",
    "1st Level -> Mother, Attributes : MotherName, Methods : __init__()\n",
    "As Child Class -> Son, Attributes : Name, Methods : show()\n",
    "\"\"\""
   ]
  },
  {
   "cell_type": "code",
   "execution_count": 28,
   "id": "7363361f",
   "metadata": {},
   "outputs": [
    {
     "name": "stdout",
     "output_type": "stream",
     "text": [
      "My Name :-  Bill\n",
      "Father :-  John\n",
      "Mother :-  Kristen\n"
     ]
    }
   ],
   "source": [
    "#Parent Class\n",
    "class Father:\n",
    "    def __init__(self):\n",
    "        self.fathername = str()\n",
    "        \n",
    "class Mother:\n",
    "    def __init__(self):\n",
    "        self.mothername = str()\n",
    "        \n",
    "#Child Class\n",
    "class Son(Father, Mother):\n",
    "    name = str()\n",
    "    def show(self):\n",
    "        print('My Name :- ', self.name)\n",
    "        print('Father :- ', self.fathername)\n",
    "        print('Mother :- ', self.mothername)\n",
    "        \n",
    "s1 = Son()\n",
    "s1.name = 'Bill'\n",
    "s1.fathername = 'John'\n",
    "s1.mothername = 'Kristen'\n",
    "s1.show()"
   ]
  },
  {
   "cell_type": "code",
   "execution_count": null,
   "id": "cdca0c85",
   "metadata": {},
   "outputs": [],
   "source": []
  }
 ],
 "metadata": {
  "kernelspec": {
   "display_name": "Python 3",
   "language": "python",
   "name": "python3"
  },
  "language_info": {
   "codemirror_mode": {
    "name": "ipython",
    "version": 3
   },
   "file_extension": ".py",
   "mimetype": "text/x-python",
   "name": "python",
   "nbconvert_exporter": "python",
   "pygments_lexer": "ipython3",
   "version": "3.8.8"
  }
 },
 "nbformat": 4,
 "nbformat_minor": 5
}
