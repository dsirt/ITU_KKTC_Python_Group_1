{
 "cells": [
  {
   "cell_type": "code",
   "execution_count": 1,
   "id": "90dabc4a",
   "metadata": {},
   "outputs": [],
   "source": [
    "from tkinter import *\n",
    "import random\n",
    "\n",
    "pencere = Tk()\n",
    "\n",
    "def bas():\n",
    "    a = random.randint(1, 100)\n",
    "    giris.delete(0, END)\n",
    "    giris.insert(0, a)\n",
    "    \n",
    "giris = Entry(width = 10)\n",
    "giris.pack()\n",
    "\n",
    "dugme = Button(text = \"bas\", command = bas, width = 2, height = 0)\n",
    "dugme.pack()\n",
    "\n",
    "mainloop()"
   ]
  },
  {
   "cell_type": "code",
   "execution_count": 2,
   "id": "18e26df1",
   "metadata": {},
   "outputs": [],
   "source": [
    "#4. Frame"
   ]
  },
  {
   "cell_type": "code",
   "execution_count": 6,
   "id": "58ef3881",
   "metadata": {},
   "outputs": [],
   "source": [
    "from tkinter import *\n",
    "pencere = Tk()\n",
    "\n",
    "etiket = Label(text = 'Aşağıdaki kutucuğa e-posta adresinizi yazınız!')\n",
    "etiket.pack()\n",
    "\n",
    "giris = Entry()\n",
    "giris.pack()\n",
    "\n",
    "cerceve = Frame()\n",
    "cerceve.pack(pady = 5)\n",
    "\n",
    "dugme = Button(text = 'Gonder', command = pencere.destroy)\n",
    "dugme.pack()\n",
    "\n",
    "mainloop()"
   ]
  },
  {
   "cell_type": "code",
   "execution_count": 8,
   "id": "3cc23e76",
   "metadata": {},
   "outputs": [],
   "source": [
    "#Geometry Managers (Geometri Yöneticileri)"
   ]
  },
  {
   "cell_type": "code",
   "execution_count": 10,
   "id": "9364844a",
   "metadata": {},
   "outputs": [],
   "source": [
    "#pack()\n",
    "from tkinter import *\n",
    "\n",
    "pencere = Tk()\n",
    "pencere.geometry(\"200x100+50+100\")\n",
    "\n",
    "dolar = Label(text = \"Dolar\", fg = \"white\", bg = \"red\", font = \"Verdana 13 bold\")\n",
    "dolar.pack()\n",
    "\n",
    "avro = Label(text = \"Avro\", fg = \"white\", bg = \"blue\", font = \"Verdana 13 bold\")\n",
    "avro.pack()\n",
    "\n",
    "lira = Label(text = \"Lira\", fg = \"white\", bg = \"green\", font = \"Verdana 13 bold\")\n",
    "lira.pack()\n",
    "\n",
    "mainloop()"
   ]
  },
  {
   "cell_type": "code",
   "execution_count": 11,
   "id": "e6e5d0c6",
   "metadata": {},
   "outputs": [],
   "source": [
    "#expand seçeneği"
   ]
  },
  {
   "cell_type": "code",
   "execution_count": 12,
   "id": "2fce6c87",
   "metadata": {},
   "outputs": [],
   "source": [
    "from tkinter import *\n",
    "\n",
    "pencere = Tk()\n",
    "pencere.geometry(\"200x100+50+100\")\n",
    "\n",
    "dolar = Label(text = \"Dolar\", fg = \"white\", bg = \"red\", font = \"Verdana 13 bold\")\n",
    "dolar.pack(expand = YES)\n",
    "\n",
    "avro = Label(text = \"Avro\", fg = \"white\", bg = \"blue\", font = \"Verdana 13 bold\")\n",
    "avro.pack(expand = YES)\n",
    "\n",
    "lira = Label(text = \"Lira\", fg = \"white\", bg = \"green\", font = \"Verdana 13 bold\")\n",
    "lira.pack(expand = YES)\n",
    "\n",
    "mainloop()"
   ]
  },
  {
   "cell_type": "code",
   "execution_count": 13,
   "id": "5aa7252d",
   "metadata": {},
   "outputs": [],
   "source": [
    "#fill seçeneği"
   ]
  },
  {
   "cell_type": "code",
   "execution_count": 15,
   "id": "3dfa18ab",
   "metadata": {},
   "outputs": [],
   "source": [
    "from tkinter import *\n",
    "\n",
    "pencere = Tk()\n",
    "pencere.geometry(\"200x100+50+100\")\n",
    "\n",
    "dolar = Label(text = \"Dolar\", fg = \"white\", bg = \"red\", font = \"Verdana 13 bold\")\n",
    "dolar.pack(expand = YES, fill = X)\n",
    "\n",
    "avro = Label(text = \"Avro\", fg = \"white\", bg = \"blue\", font = \"Verdana 13 bold\")\n",
    "avro.pack(expand = YES, fill = Y)\n",
    "\n",
    "lira = Label(text = \"Lira\", fg = \"white\", bg = \"green\", font = \"Verdana 13 bold\")\n",
    "lira.pack(expand = YES, fill = BOTH)\n",
    "\n",
    "mainloop()"
   ]
  },
  {
   "cell_type": "code",
   "execution_count": 16,
   "id": "aa5b9389",
   "metadata": {},
   "outputs": [],
   "source": [
    "#side seçeneği: TOP, BOTTOM, LEFT, RIGHT"
   ]
  },
  {
   "cell_type": "code",
   "execution_count": 17,
   "id": "add59cb6",
   "metadata": {},
   "outputs": [],
   "source": [
    "from tkinter import *\n",
    "\n",
    "pencere = Tk()\n",
    "pencere.geometry(\"200x100+50+100\")\n",
    "\n",
    "dolar = Label(text = \"Dolar\", fg = \"white\", bg = \"red\", font = \"Verdana 13 bold\")\n",
    "dolar.pack(side = LEFT)\n",
    "\n",
    "avro = Label(text = \"Avro\", fg = \"white\", bg = \"blue\", font = \"Verdana 13 bold\")\n",
    "avro.pack(side = LEFT)\n",
    "\n",
    "lira = Label(text = \"Lira\", fg = \"white\", bg = \"green\", font = \"Verdana 13 bold\")\n",
    "lira.pack(side = LEFT)\n",
    "\n",
    "mainloop()"
   ]
  },
  {
   "cell_type": "code",
   "execution_count": 18,
   "id": "40a80247",
   "metadata": {},
   "outputs": [],
   "source": [
    "from tkinter import *\n",
    "\n",
    "pencere = Tk()\n",
    "pencere.geometry(\"200x100+50+100\")\n",
    "\n",
    "dolar = Label(text = \"Dolar\", fg = \"white\", bg = \"red\", font = \"Verdana 13 bold\")\n",
    "dolar.pack(side = TOP, expand = YES, fill = BOTH)\n",
    "\n",
    "avro = Label(text = \"Avro\", fg = \"white\", bg = \"blue\", font = \"Verdana 13 bold\")\n",
    "avro.pack(side = TOP, expand = YES, fill = BOTH)\n",
    "\n",
    "lira = Label(text = \"Lira\", fg = \"white\", bg = \"green\", font = \"Verdana 13 bold\")\n",
    "lira.pack(side = TOP, expand = YES, fill = BOTH)\n",
    "\n",
    "mainloop()"
   ]
  },
  {
   "cell_type": "code",
   "execution_count": 20,
   "id": "9290f254",
   "metadata": {},
   "outputs": [],
   "source": [
    "#Frame + pack\n",
    "from tkinter import *\n",
    "\n",
    "pencere = Tk()\n",
    "\n",
    "yeni = Frame()\n",
    "yeni.pack(side = BOTTOM)\n",
    "\n",
    "uyari = Label(pencere, text = \"Programdan çıkmak istediğinize emin misiniz?\")\n",
    "uyari.pack()\n",
    "\n",
    "evet = Button(yeni, text = \"Evet\", command = pencere.destroy)\n",
    "evet.pack(side = LEFT)\n",
    "\n",
    "hayir = Button(yeni, text = \"Hayır\")\n",
    "hayir.pack()\n",
    "\n",
    "mainloop()"
   ]
  },
  {
   "cell_type": "code",
   "execution_count": 23,
   "id": "9dd251c0",
   "metadata": {},
   "outputs": [],
   "source": [
    "from tkinter import *\n",
    "pencere = Tk()\n",
    "\n",
    "etiket = Label(text = 'Aşağıdaki kutucuğa eposta adresinizi yazınız!')\n",
    "etiket.pack()\n",
    "\n",
    "giris = Entry()\n",
    "giris.pack()\n",
    "\n",
    "cerceve = Frame(height = 2, bd = 1, relief = SUNKEN) #Kabartma Türleri : SOLID, FLAT, RIDGE, SUNKEN, GROOVE, RAISED\n",
    "cerceve.pack(fill = X, pady = 5, padx = 5)\n",
    "\n",
    "dugme = Button(text = \"Gonder\", command = pencere.destroy)\n",
    "dugme.pack()\n",
    "\n",
    "mainloop()"
   ]
  },
  {
   "cell_type": "code",
   "execution_count": 24,
   "id": "6bcb55e1",
   "metadata": {},
   "outputs": [],
   "source": [
    "#grid geometri yöneticisi "
   ]
  },
  {
   "cell_type": "code",
   "execution_count": 25,
   "id": "7bf7f3ec",
   "metadata": {},
   "outputs": [],
   "source": [
    "from tkinter import *\n",
    "\n",
    "dugme1 = Button(text = \"Ürünler\")\n",
    "dugme1.grid()\n",
    "\n",
    "dugme2 = Button(text = \"Hizmetler\")\n",
    "dugme2.grid()\n",
    "\n",
    "dugme3 = Button(text = \"Ulaşım\")\n",
    "dugme3.grid()\n",
    "\n",
    "dugme4 = Button(text = \"Hakkında\")\n",
    "dugme4.grid()\n",
    "\n",
    "mainloop()"
   ]
  },
  {
   "cell_type": "code",
   "execution_count": 26,
   "id": "a157363a",
   "metadata": {},
   "outputs": [],
   "source": [
    "#row ve column seçenekleri\n",
    "from tkinter import *\n",
    "\n",
    "dugme1 = Button(text = \"Ürünler\")\n",
    "dugme1.grid(row = 0, column = 0)\n",
    "\n",
    "dugme2 = Button(text = \"Hizmetler\")\n",
    "dugme2.grid(row = 0, column = 1)\n",
    "\n",
    "dugme3 = Button(text = \"Ulaşım\")\n",
    "dugme3.grid(row = 1, column = 0)\n",
    "\n",
    "dugme4 = Button(text = \"Hakkında\")\n",
    "dugme4.grid(row = 1, column = 1)\n",
    "\n",
    "mainloop()"
   ]
  },
  {
   "cell_type": "code",
   "execution_count": 28,
   "id": "a3d96c75",
   "metadata": {},
   "outputs": [],
   "source": [
    "#Hesap makinesi\n",
    "\n",
    "from tkinter import *\n",
    "\n",
    "pencere = Tk()\n",
    "\n",
    "pencere.resizable(width = FALSE, height = FALSE)\n",
    "\n",
    "liste = [\\\n",
    "        \"9\", \"8\", \"7\",\n",
    "        \"6\", \"5\", \"4\",\n",
    "        \"3\", \"2\", \"1\",\n",
    "        \"0\", \"+\", \"-\",\n",
    "        \"/\", \"*\", \"=\",\n",
    "        \"C\"]\n",
    "\n",
    "sira = 1\n",
    "sutun = 0\n",
    "\n",
    "for i in liste:\n",
    "    Button(text = i, width = 4, relief = GROOVE).grid(row = sira, column = sutun)\n",
    "    sutun += 1\n",
    "    \n",
    "    if sutun > 2:\n",
    "        sutun = 0\n",
    "        sira += 1\n",
    "        \n",
    "mainloop()"
   ]
  },
  {
   "cell_type": "code",
   "execution_count": 29,
   "id": "d1e98f1d",
   "metadata": {},
   "outputs": [],
   "source": [
    "#place geometri yöneticisi"
   ]
  },
  {
   "cell_type": "code",
   "execution_count": 30,
   "id": "8f7e113d",
   "metadata": {},
   "outputs": [],
   "source": [
    "from tkinter import *\n",
    "\n",
    "pencere = Tk()\n",
    "\n",
    "giris1 = Entry()\n",
    "giris1.place(relx = 0.0, rely = 0.0, relheight = 0.15)\n",
    "\n",
    "dugme1 = Button(text = \"Düğme1\")\n",
    "dugme1.place(relx = 0.7, rely = 0.0, relheight = 0.16)\n",
    "\n",
    "dugme2 = Button(text = \"Düğme2\")\n",
    "dugme2.place(relx = 0.0, rely = 0.2, relwidth = 1)\n",
    "\n",
    "giris2 = Entry()\n",
    "giris2.place(relx = 0.0, rely = 0.35, relheight = 0.5, relwidth = 1)\n",
    "\n",
    "mainloop()"
   ]
  },
  {
   "cell_type": "code",
   "execution_count": 31,
   "id": "b53226dd",
   "metadata": {},
   "outputs": [],
   "source": [
    "#5. Checkbutton (Onay Kutusu)"
   ]
  },
  {
   "cell_type": "code",
   "execution_count": 32,
   "id": "735e56c9",
   "metadata": {},
   "outputs": [],
   "source": [
    "from tkinter import *\n",
    "\n",
    "pencere = Tk()\n",
    "\n",
    "onay = Checkbutton()\n",
    "onay.pack()\n",
    "\n",
    "mainloop()"
   ]
  },
  {
   "cell_type": "code",
   "execution_count": 33,
   "id": "b14925c2",
   "metadata": {},
   "outputs": [],
   "source": [
    "from tkinter import *\n",
    "\n",
    "pencere = Tk()\n",
    "\n",
    "onay_el = Checkbutton(text = \"elma\")\n",
    "onay_el.pack(side = LEFT)\n",
    "\n",
    "onay_sa = Checkbutton(text = \"salatalık\")\n",
    "onay_sa.pack(side = LEFT)\n",
    "\n",
    "onay_do = Checkbutton(text = \"domates\")\n",
    "onay_do.pack(side = LEFT)\n",
    "\n",
    "onay_ka = Checkbutton(text = \"karnıbahar\")\n",
    "onay_ka.pack(side = LEFT)\n",
    "\n",
    "mainloop()"
   ]
  },
  {
   "cell_type": "code",
   "execution_count": 34,
   "id": "fa69ac34",
   "metadata": {},
   "outputs": [],
   "source": [
    "#checkbutton + place\n",
    "from tkinter import *\n",
    "\n",
    "pencere = Tk()\n",
    "\n",
    "onay_mac = Checkbutton(text = \"MacOS\")\n",
    "onay_mac.place(relx = 0.0, rely = 0.1)\n",
    "\n",
    "onay_ub = Checkbutton(text = \"Ubuntu\")\n",
    "onay_ub.place(relx = 0.4, rely = 0.1)\n",
    "\n",
    "onay_and = Checkbutton(text = \"Android\")\n",
    "onay_and.place(relx = 0.0, rely = 0.2)\n",
    "\n",
    "onay_win = Checkbutton(text = \"Windows\")\n",
    "onay_win.place(relx = 0.4, rely = 0.2)\n",
    "\n",
    "mainloop()"
   ]
  },
  {
   "cell_type": "code",
   "execution_count": 35,
   "id": "a68c6bc1",
   "metadata": {},
   "outputs": [],
   "source": [
    "#Bazı Özel İşler"
   ]
  },
  {
   "cell_type": "code",
   "execution_count": 37,
   "id": "3813ef3a",
   "metadata": {},
   "outputs": [],
   "source": [
    "from tkinter import *\n",
    "\n",
    "pencere = Tk()\n",
    "\n",
    "d = IntVar()\n",
    "d.set(0)\n",
    "\n",
    "btn1 = Checkbutton(text = 'Ubuntu', variable = d)\n",
    "btn1.place(relx = 0.0, rely = 0.1)\n",
    "\n",
    "mainloop()"
   ]
  },
  {
   "cell_type": "code",
   "execution_count": 38,
   "id": "1f1c3f5e",
   "metadata": {},
   "outputs": [],
   "source": [
    "from tkinter import *\n",
    "\n",
    "pencere = Tk()\n",
    "\n",
    "d = IntVar()\n",
    "d.set(1)\n",
    "\n",
    "btn1 = Checkbutton(text = 'Ubuntu', variable = d)\n",
    "btn1.place(relx = 0.0, rely = 0.1)\n",
    "\n",
    "mainloop()"
   ]
  },
  {
   "cell_type": "code",
   "execution_count": 39,
   "id": "1bb9ddef",
   "metadata": {},
   "outputs": [],
   "source": [
    "#6. Toplevel"
   ]
  },
  {
   "cell_type": "code",
   "execution_count": 40,
   "id": "7f0aa392",
   "metadata": {},
   "outputs": [],
   "source": [
    "from tkinter import *\n",
    "\n",
    "pencere = Tk()\n",
    "pencere2 = Toplevel()\n",
    "\n",
    "mainloop()"
   ]
  },
  {
   "cell_type": "code",
   "execution_count": 42,
   "id": "3ecab07c",
   "metadata": {},
   "outputs": [],
   "source": [
    "from tkinter import *\n",
    "pencere = Tk()\n",
    "\n",
    "def ekle():\n",
    "    pencere2 = Toplevel()\n",
    "    \n",
    "btn_pen2 = Button(text = \"ekle\", command = ekle)\n",
    "btn_pen2.pack()\n",
    "\n",
    "mainloop()"
   ]
  },
  {
   "cell_type": "code",
   "execution_count": 43,
   "id": "98ea56e3",
   "metadata": {},
   "outputs": [],
   "source": [
    "#Açılan 2. pencereye bir şeyler eklemek istersek"
   ]
  },
  {
   "cell_type": "code",
   "execution_count": 45,
   "id": "3bc87f2d",
   "metadata": {},
   "outputs": [],
   "source": [
    "from tkinter import *\n",
    "pencere = Tk()\n",
    "\n",
    "def ekle():\n",
    "    pencere2 = Toplevel()\n",
    "    btn_pen = Button(pencere2, text = \"ÇIKIŞ\", command = pencere2.destroy)\n",
    "    btn_pen.pack()\n",
    "    \n",
    "btn_pen2 = Button(pencere, text = \"ekle\", command = ekle)\n",
    "btn_pen2.pack()\n",
    "\n",
    "mainloop()"
   ]
  },
  {
   "cell_type": "code",
   "execution_count": 46,
   "id": "0fc2ffbc",
   "metadata": {},
   "outputs": [],
   "source": [
    "#7. Listbox"
   ]
  },
  {
   "cell_type": "code",
   "execution_count": 47,
   "id": "b1ab3bcd",
   "metadata": {},
   "outputs": [],
   "source": [
    "from tkinter import *\n",
    "\n",
    "pencere = Tk()\n",
    "\n",
    "liste = Listbox()\n",
    "liste.pack()\n",
    "\n",
    "mainloop()"
   ]
  },
  {
   "cell_type": "code",
   "execution_count": 48,
   "id": "015a3fe0",
   "metadata": {},
   "outputs": [],
   "source": [
    "from tkinter import *\n",
    "\n",
    "pencere = Tk()\n",
    "\n",
    "liste = Listbox()\n",
    "liste.pack()\n",
    "\n",
    "btn = Button(text = \"ekle\")\n",
    "btn.pack()\n",
    "\n",
    "mainloop()"
   ]
  },
  {
   "cell_type": "code",
   "execution_count": null,
   "id": "b54c2c43",
   "metadata": {},
   "outputs": [],
   "source": []
  }
 ],
 "metadata": {
  "kernelspec": {
   "display_name": "Python 3 (ipykernel)",
   "language": "python",
   "name": "python3"
  },
  "language_info": {
   "codemirror_mode": {
    "name": "ipython",
    "version": 3
   },
   "file_extension": ".py",
   "mimetype": "text/x-python",
   "name": "python",
   "nbconvert_exporter": "python",
   "pygments_lexer": "ipython3",
   "version": "3.9.13"
  }
 },
 "nbformat": 4,
 "nbformat_minor": 5
}
