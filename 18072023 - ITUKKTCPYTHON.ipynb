{
 "cells": [
  {
   "cell_type": "code",
   "execution_count": 1,
   "id": "bec6e367",
   "metadata": {},
   "outputs": [],
   "source": [
    "#7. Listbox"
   ]
  },
  {
   "cell_type": "code",
   "execution_count": 2,
   "id": "abcfb1e4",
   "metadata": {},
   "outputs": [],
   "source": [
    "from tkinter import *\n",
    "\n",
    "pencere = Tk()\n",
    "\n",
    "liste = Listbox(bg = 'white')\n",
    "liste.pack()\n",
    "\n",
    "gnulinux_dagitimlari = ['Pardus', 'Debian', 'Ubuntu', 'TruvaLinux', \"Backtrack\"]\n",
    "for i in gnulinux_dagitimlari:\n",
    "    liste.insert(END, i)\n",
    "\n",
    "etiket = Label(text = '####################', fg = \"magenta\", bg = \"light green\")\n",
    "etiket.pack()\n",
    "\n",
    "btn = Button(text = \"ekle\", bg = \"orange\", fg = \"navy\")\n",
    "btn.pack()\n",
    "\n",
    "etiket2 = Label(text = '###################', fg = \"magenta\", bg = \"light green\")\n",
    "etiket2.pack()\n",
    "\n",
    "mainloop()"
   ]
  },
  {
   "cell_type": "code",
   "execution_count": 9,
   "id": "397dd863",
   "metadata": {},
   "outputs": [],
   "source": [
    "#Ekle butonunu aktiflemek için\n",
    "from tkinter import *\n",
    "\n",
    "pencere = Tk()\n",
    "\n",
    "liste = Listbox(bg = 'white')\n",
    "liste.pack()\n",
    "\n",
    "gnulinux_dagitimlari = ['Pardus', 'Debian', 'Ubuntu', 'TruvaLinux', \"Backtrack\"]\n",
    "for i in gnulinux_dagitimlari:\n",
    "    liste.insert(END, i)\n",
    "    \n",
    "def ekle():\n",
    "    liste.insert(END, giris.get())\n",
    "    giris.delete(0, END)\n",
    "    \n",
    "def yeni():\n",
    "    global giris\n",
    "    pencere2 = Toplevel()\n",
    "    giris = Entry(pencere2)\n",
    "    giris.pack()\n",
    "    btn2 = Button(pencere2, text = \"TAMAM\", command = ekle)\n",
    "    btn2.pack()\n",
    "    \n",
    "etiket = Label(text = '####################', fg = \"magenta\", bg = \"light green\")\n",
    "etiket.pack()\n",
    "\n",
    "btn = Button(text = \"ekle\", bg = \"orange\", fg = \"navy\", command = yeni)\n",
    "btn.pack()\n",
    "\n",
    "etiket2 = Label(text = '###################', fg = \"magenta\", bg = \"light green\")\n",
    "etiket2.pack()\n",
    "\n",
    "mainloop()"
   ]
  },
  {
   "cell_type": "code",
   "execution_count": 10,
   "id": "afd0cf41",
   "metadata": {},
   "outputs": [],
   "source": [
    "#8. Menu"
   ]
  },
  {
   "cell_type": "code",
   "execution_count": 14,
   "id": "06840f76",
   "metadata": {},
   "outputs": [],
   "source": [
    "from tkinter import *\n",
    "pencere = Tk()\n",
    "\n",
    "menu = Menu(pencere)\n",
    "pencere.config(menu = menu)\n",
    "dosya = Menu(menu, tearoff = 0)\n",
    "menu.add_cascade(label = \"Dosya\", menu = dosya)\n",
    "dosya.add_command(label = \"Aç\")\n",
    "dosya.add_command(label = \"Kaydet\")\n",
    "dosya.add_command(label = \"Farklı Kaydet...\")\n",
    "dosya.add_command(label = \"Çıkış\", command = pencere.destroy)\n",
    "\n",
    "mainloop()"
   ]
  },
  {
   "cell_type": "code",
   "execution_count": 15,
   "id": "fe677527",
   "metadata": {},
   "outputs": [],
   "source": [
    "#2. menü oluşturmak"
   ]
  },
  {
   "cell_type": "code",
   "execution_count": 17,
   "id": "3f4fbb78",
   "metadata": {},
   "outputs": [],
   "source": [
    "from tkinter import *\n",
    "pencere = Tk()\n",
    "\n",
    "menu = Menu(pencere)\n",
    "pencere.config(menu = menu)\n",
    "dosya = Menu(menu, tearoff = 0)\n",
    "menu.add_cascade(label = \"Dosya\", menu = dosya)\n",
    "dosya.add_command(label = \"Aç\")\n",
    "dosya.add_command(label = \"Kaydet\")\n",
    "dosya.add_command(label = \"Farklı Kaydet...\")\n",
    "dosya.add_command(label = \"Çıkış\", command = pencere.destroy)\n",
    "\n",
    "yeni = Menu(dosya, tearoff = 0)\n",
    "dosya.add_cascade(label = \"Yeni\", menu = yeni)\n",
    "yeni.add_command(label = \"Metin Belgesi\")\n",
    "yeni.add_command(label = \"Resim Dosyası\")\n",
    "yeni.add_command(label = \"pdf dökümanı\")\n",
    "\n",
    "mainloop()"
   ]
  },
  {
   "cell_type": "code",
   "execution_count": 18,
   "id": "6af2b57c",
   "metadata": {},
   "outputs": [],
   "source": [
    "#9. Scrollbar Aracı"
   ]
  },
  {
   "cell_type": "code",
   "execution_count": 21,
   "id": "0e0cac8d",
   "metadata": {},
   "outputs": [],
   "source": [
    "from tkinter import *\n",
    "pencere = Tk()\n",
    "\n",
    "kaydirma = Scrollbar(pencere)\n",
    "kaydirma.pack(side = RIGHT, fill = Y)\n",
    "\n",
    "metin = Text(yscrollcommand = kaydirma.set)\n",
    "metin.pack()\n",
    "\n",
    "kaydirma.config(command = metin.yview)\n",
    "\n",
    "mainloop()"
   ]
  },
  {
   "cell_type": "code",
   "execution_count": 22,
   "id": "d059a41a",
   "metadata": {},
   "outputs": [],
   "source": [
    "#Fare Hareketleri"
   ]
  },
  {
   "cell_type": "code",
   "execution_count": 24,
   "id": "e038a93c",
   "metadata": {},
   "outputs": [],
   "source": [
    "from tkinter import *\n",
    "\n",
    "pencere = Tk()\n",
    "pencere.geometry(\"400x200\")\n",
    "\n",
    "etiket = Label(text = \"Farenin pencere üzerindeki konumu:\")\n",
    "etiket.pack(anchor = NW)\n",
    "\n",
    "girisx_etiket = Label(text = \"X:\")\n",
    "girisx_etiket.pack(side = LEFT, anchor = N)\n",
    "\n",
    "girisx = Entry(width = 5)\n",
    "girisx.pack(side = LEFT, padx = 15, anchor = N)\n",
    "\n",
    "girisy_etiket = Label(text = \"Y:\")\n",
    "girisy_etiket.pack(side = LEFT, anchor = N)\n",
    "\n",
    "girisy = Entry(width = 5)\n",
    "girisy.pack(side = LEFT, padx = 15, anchor = N)\n",
    "\n",
    "def hareket(event = None):\n",
    "    girisx.delete(0, END)\n",
    "    girisy.delete(0, END)\n",
    "    girisx.insert(0, event.x)\n",
    "    girisy.insert(0, event.y)\n",
    "    \n",
    "pencere.bind(\"<Button-1>\", hareket) #Farenin sol düğmesi, Button-2 orta, Button-3 sağ düğme\n",
    "\n",
    "mainloop()"
   ]
  },
  {
   "cell_type": "code",
   "execution_count": 25,
   "id": "6810493f",
   "metadata": {},
   "outputs": [],
   "source": [
    "#Klavye Hareketlerini yakalama"
   ]
  },
  {
   "cell_type": "code",
   "execution_count": 32,
   "id": "48ad1271",
   "metadata": {},
   "outputs": [],
   "source": [
    "from tkinter import *\n",
    "\n",
    "pencere = Tk()\n",
    "pencere.geometry(\"200x200\")\n",
    "\n",
    "giris = Entry()\n",
    "giris.pack()\n",
    "\n",
    "def silemezsin(event = None):\n",
    "    if event.keysym == \"BackSpace\" or event.keysym == \"Delete\":\n",
    "        return \"break\"    \n",
    "\n",
    "etiket = Label(text = \"Basilan Tuş:\\n\", wraplength = 150)\n",
    "etiket.pack()\n",
    "\n",
    "def goster(event = None):\n",
    "    etiket[\"text\"] += event.keysym\n",
    "    \n",
    "pencere.bind(\"<Key>\", goster)\n",
    "giris.bind(\"<Key>\", silemezsin)\n",
    "\n",
    "mainloop()"
   ]
  },
  {
   "cell_type": "code",
   "execution_count": null,
   "id": "03f73dbc",
   "metadata": {},
   "outputs": [],
   "source": []
  }
 ],
 "metadata": {
  "kernelspec": {
   "display_name": "Python 3",
   "language": "python",
   "name": "python3"
  },
  "language_info": {
   "codemirror_mode": {
    "name": "ipython",
    "version": 3
   },
   "file_extension": ".py",
   "mimetype": "text/x-python",
   "name": "python",
   "nbconvert_exporter": "python",
   "pygments_lexer": "ipython3",
   "version": "3.8.8"
  }
 },
 "nbformat": 4,
 "nbformat_minor": 5
}
