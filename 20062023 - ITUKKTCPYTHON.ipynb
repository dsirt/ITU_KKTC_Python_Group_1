{
 "cells": [
  {
   "cell_type": "code",
   "execution_count": 1,
   "id": "5a4909a8",
   "metadata": {},
   "outputs": [
    {
     "data": {
      "text/plain": [
       "(30, 100, 280)"
      ]
     },
     "execution_count": 1,
     "metadata": {},
     "output_type": "execute_result"
    }
   ],
   "source": [
    "res = (lambda *args : sum(args))\n",
    "res(10, 20), res(10,20,30,40), res(10, 20, 30,40, 50,60,70)"
   ]
  },
  {
   "cell_type": "code",
   "execution_count": 2,
   "id": "668b1fe5",
   "metadata": {},
   "outputs": [
    {
     "data": {
      "text/plain": [
       "(60, 150)"
      ]
     },
     "execution_count": 2,
     "metadata": {},
     "output_type": "execute_result"
    }
   ],
   "source": [
    "res1 = (lambda **kwargs : sum(kwargs.values()))\n",
    "res1(a = 10, b = 20, c = 30), res1(a = 10, b = 20, c = 30, d = 40, e = 50)"
   ]
  },
  {
   "cell_type": "code",
   "execution_count": 4,
   "id": "4e1ac33e",
   "metadata": {},
   "outputs": [
    {
     "data": {
      "text/plain": [
       "(6000, 12000000)"
      ]
     },
     "execution_count": 4,
     "metadata": {},
     "output_type": "execute_result"
    }
   ],
   "source": [
    "def product(nums):\n",
    "    total = 1\n",
    "    for i in nums:\n",
    "        total *= i #total = total * i\n",
    "    return total\n",
    "\n",
    "res1 = (lambda **kwargs : product(kwargs.values()))\n",
    "res1(a = 10, b = 20, c = 30), res1(a = 10, b = 20, c = 30, d = 40, e = 50)"
   ]
  },
  {
   "cell_type": "code",
   "execution_count": 5,
   "id": "d13a809f",
   "metadata": {},
   "outputs": [
    {
     "name": "stdout",
     "output_type": "stream",
     "text": [
      "15\n",
      "25\n",
      "35\n"
     ]
    }
   ],
   "source": [
    "def myfunc(n):\n",
    "    return lambda a : a + n\n",
    "\n",
    "add10 = myfunc(10)\n",
    "add20 = myfunc(20)\n",
    "add30 = myfunc(30)\n",
    "\n",
    "print(add10(5))\n",
    "print(add20(5))\n",
    "print(add30(5))"
   ]
  },
  {
   "cell_type": "code",
   "execution_count": 6,
   "id": "43824d68",
   "metadata": {},
   "outputs": [],
   "source": [
    "#Filter (function, iterable) , iterable : sets, lists, tuples etc."
   ]
  },
  {
   "cell_type": "code",
   "execution_count": null,
   "id": "48790f32",
   "metadata": {},
   "outputs": [],
   "source": [
    "#filter(lambda n : n%2 == 1, list1)"
   ]
  },
  {
   "cell_type": "code",
   "execution_count": 9,
   "id": "8876e0e9",
   "metadata": {},
   "outputs": [
    {
     "data": {
      "text/plain": [
       "[1, 3, 5, 7, 9]"
      ]
     },
     "execution_count": 9,
     "metadata": {},
     "output_type": "execute_result"
    }
   ],
   "source": [
    "list1 = [1,2,3,4,5,6,7,8,9]\n",
    "def odd(n):\n",
    "    if n%2 == 1:\n",
    "        return True\n",
    "    else:\n",
    "        return False\n",
    "    \n",
    "odd_num = list(filter(odd, list1))\n",
    "odd_num"
   ]
  },
  {
   "cell_type": "code",
   "execution_count": 10,
   "id": "4531dec5",
   "metadata": {},
   "outputs": [
    {
     "data": {
      "text/plain": [
       "[1, 3, 5, 7, 9]"
      ]
     },
     "execution_count": 10,
     "metadata": {},
     "output_type": "execute_result"
    }
   ],
   "source": [
    "list1 = [1,2,3,4,5,6,7,8,9]\n",
    "odd_num = list(filter(lambda n : n%2 == 1, list1))\n",
    "odd_num"
   ]
  },
  {
   "cell_type": "code",
   "execution_count": 11,
   "id": "710e0b04",
   "metadata": {},
   "outputs": [],
   "source": [
    "#Map(function, iterable)"
   ]
  },
  {
   "cell_type": "code",
   "execution_count": 14,
   "id": "b6289bfa",
   "metadata": {},
   "outputs": [
    {
     "data": {
      "text/plain": [
       "[2, 6, 10, 14, 18]"
      ]
     },
     "execution_count": 14,
     "metadata": {},
     "output_type": "execute_result"
    }
   ],
   "source": [
    "def twice(n):\n",
    "    return n*2\n",
    "\n",
    "doubles = list(map(twice, odd_num))\n",
    "doubles"
   ]
  },
  {
   "cell_type": "code",
   "execution_count": 15,
   "id": "1dbfbe11",
   "metadata": {},
   "outputs": [
    {
     "data": {
      "text/plain": [
       "[2, 6, 10, 14, 18]"
      ]
     },
     "execution_count": 15,
     "metadata": {},
     "output_type": "execute_result"
    }
   ],
   "source": [
    "doubles = list(map(lambda n:n*2, odd_num))\n",
    "doubles"
   ]
  },
  {
   "cell_type": "code",
   "execution_count": 16,
   "id": "e3390527",
   "metadata": {},
   "outputs": [
    {
     "data": {
      "text/plain": [
       "50"
      ]
     },
     "execution_count": 16,
     "metadata": {},
     "output_type": "execute_result"
    }
   ],
   "source": [
    "from functools import reduce\n",
    "\n",
    "def add(a, b):\n",
    "    return a + b\n",
    "\n",
    "sum_all = reduce(add, doubles)\n",
    "sum_all"
   ]
  },
  {
   "cell_type": "code",
   "execution_count": 17,
   "id": "55d6dbaa",
   "metadata": {},
   "outputs": [
    {
     "data": {
      "text/plain": [
       "50"
      ]
     },
     "execution_count": 17,
     "metadata": {},
     "output_type": "execute_result"
    }
   ],
   "source": [
    "sum_all = reduce(lambda a, b : a + b, doubles)\n",
    "sum_all"
   ]
  },
  {
   "cell_type": "code",
   "execution_count": 18,
   "id": "483f0c32",
   "metadata": {},
   "outputs": [
    {
     "data": {
      "text/plain": [
       "50"
      ]
     },
     "execution_count": 18,
     "metadata": {},
     "output_type": "execute_result"
    }
   ],
   "source": [
    "from functools import reduce\n",
    "list1=[1,2,3,4,5,6,7,8,9]\n",
    "odd_num=list(filter(lambda n:n%2==1, list1))\n",
    "doubles = list(map(lambda n:n*2, odd_num))\n",
    "sum_all= reduce(add,doubles)\n",
    "sum_all"
   ]
  },
  {
   "cell_type": "code",
   "execution_count": 19,
   "id": "a0b50a06",
   "metadata": {},
   "outputs": [
    {
     "data": {
      "text/plain": [
       "50"
      ]
     },
     "execution_count": 19,
     "metadata": {},
     "output_type": "execute_result"
    }
   ],
   "source": [
    "sum_all = reduce(lambda a,b : a + b, list(map(lambda n : n*2, list(filter(lambda n : n%2, list1)))))\n",
    "sum_all"
   ]
  },
  {
   "cell_type": "code",
   "execution_count": 20,
   "id": "4748f7f8",
   "metadata": {},
   "outputs": [
    {
     "name": "stdout",
     "output_type": "stream",
     "text": [
      "['TWO', 'FOUR']\n",
      "['one', 'three']\n"
     ]
    }
   ],
   "source": [
    "list2 = ['one', 'TWO', 'three', 'FOUR']\n",
    "upper = list(filter(lambda x : x.isupper(), list2))\n",
    "lower = list(filter(lambda x : x.islower(), list2))\n",
    "print(upper)\n",
    "print(lower)"
   ]
  },
  {
   "cell_type": "code",
   "execution_count": 21,
   "id": "9adc36c3",
   "metadata": {},
   "outputs": [
    {
     "name": "stdout",
     "output_type": "stream",
     "text": [
      "['one']\n",
      "['88', '99', '102']\n",
      "['one', 'two2', 'three3', '88', '99', '102']\n"
     ]
    }
   ],
   "source": [
    "list3 = ['one', 'two2', 'three3', '88', '99', '102']\n",
    "\n",
    "numeric = list(filter(lambda x : x.isnumeric(), list3))\n",
    "\n",
    "alpha = list(filter(lambda x : x.isalpha(), list3))\n",
    "\n",
    "alphanum = list(filter(lambda x : x.isalnum(), list3))\n",
    "\n",
    "print(alpha)\n",
    "print(numeric)\n",
    "print(alphanum)"
   ]
  },
  {
   "cell_type": "code",
   "execution_count": 29,
   "id": "f7004885",
   "metadata": {},
   "outputs": [
    {
     "name": "stdout",
     "output_type": "stream",
     "text": [
      "[2, 4, 6, 8]\n",
      "[6, 8, 10, 12]\n",
      "[1, 4, 9, 16]\n",
      "------------------\n",
      "[2, 4, 6, 8]\n",
      "[6, 8, 10, 12]\n",
      "[1, 4, 9, 16]\n"
     ]
    }
   ],
   "source": [
    "list1 = [1,2,3,4]\n",
    "list2 = [5,6,7,8]\n",
    "\n",
    "def double(x):\n",
    "    return x + x\n",
    "\n",
    "def add(x, y):\n",
    "    return x + y\n",
    "\n",
    "def square(x):\n",
    "    return x * x\n",
    "\n",
    "print(list(map(double, list1)))\n",
    "print(list(map(add, list1, list2)))\n",
    "print(list(map(square, list1)))\n",
    "\n",
    "print('------------------')\n",
    "\n",
    "print(list(map(lambda x : x + x, list1)))\n",
    "print(list(map(lambda x, y : x + y, list1, list2)))\n",
    "print(list(map(lambda x : x * x, list1)))\n"
   ]
  },
  {
   "cell_type": "code",
   "execution_count": 32,
   "id": "af1d6109",
   "metadata": {},
   "outputs": [
    {
     "name": "stdout",
     "output_type": "stream",
     "text": [
      "24\n",
      "10\n",
      "Python Rocks\n",
      "Hello Hello Hello \n",
      "1\n",
      "4\n"
     ]
    }
   ],
   "source": [
    "import operator\n",
    "\n",
    "list2 = [1,2,3,4]\n",
    "\n",
    "product = reduce(operator.mul, list2)\n",
    "\n",
    "add = reduce(operator.add, list2)\n",
    "\n",
    "concat_str = reduce(operator.add, ['Python', ' ', 'Rocks'])\n",
    "\n",
    "prod = reduce(operator.mul, ['Hello ', 3])\n",
    "\n",
    "min_num = reduce(lambda a, b : a if a < b else b, list2)\n",
    "\n",
    "max_num = reduce(lambda a, b : a if a > b else b, list2)\n",
    "\n",
    "print(product)\n",
    "print(add)\n",
    "print(concat_str)\n",
    "print(prod)\n",
    "print(min_num)\n",
    "print(max_num)"
   ]
  },
  {
   "cell_type": "code",
   "execution_count": null,
   "id": "11fc8ed4",
   "metadata": {},
   "outputs": [],
   "source": []
  }
 ],
 "metadata": {
  "kernelspec": {
   "display_name": "Python 3",
   "language": "python",
   "name": "python3"
  },
  "language_info": {
   "codemirror_mode": {
    "name": "ipython",
    "version": 3
   },
   "file_extension": ".py",
   "mimetype": "text/x-python",
   "name": "python",
   "nbconvert_exporter": "python",
   "pygments_lexer": "ipython3",
   "version": "3.8.8"
  }
 },
 "nbformat": 4,
 "nbformat_minor": 5
}
