{
 "cells": [
  {
   "cell_type": "code",
   "execution_count": null,
   "id": "ce179827",
   "metadata": {},
   "outputs": [],
   "source": [
    "def main(): #Endless function (Sonsuz fonksiyon)\n",
    "    message()\n",
    "    \n",
    "def message():\n",
    "    print('This is a recursive function')\n",
    "    message()\n",
    "\n",
    "main()"
   ]
  },
  {
   "cell_type": "code",
   "execution_count": 1,
   "id": "eeba0d5a",
   "metadata": {},
   "outputs": [
    {
     "name": "stdout",
     "output_type": "stream",
     "text": [
      "This is a recursive function\n",
      "This is a recursive function\n",
      "This is a recursive function\n",
      "This is a recursive function\n",
      "This is a recursive function\n",
      "This is a recursive function\n",
      "This is a recursive function\n",
      "This is a recursive function\n",
      "This is a recursive function\n",
      "This is a recursive function\n"
     ]
    }
   ],
   "source": [
    "def main():\n",
    "    message(10)\n",
    "    \n",
    "def message(times):\n",
    "    if times > 0:\n",
    "        print(\"This is a recursive function\")\n",
    "        message(times - 1)\n",
    "        \n",
    "main()"
   ]
  },
  {
   "cell_type": "code",
   "execution_count": 4,
   "id": "62e4e425",
   "metadata": {},
   "outputs": [
    {
     "name": "stdout",
     "output_type": "stream",
     "text": [
      "Enter a nonnegative integer: 6\n",
      "The factorial of 6 is 720\n"
     ]
    }
   ],
   "source": [
    "def main():\n",
    "    #Kullanıcıdan bir sayı al\n",
    "    number = int(input('Enter a nonnegative integer: '))\n",
    "    \n",
    "    #Sayının faktöriyelini hesapla\n",
    "    fact = factorial(number)\n",
    "    \n",
    "    #Faktöriyeli görüntüleme\n",
    "    print('The factorial of', number, 'is', fact)\n",
    "    \n",
    "def factorial(num):\n",
    "    if num == 0:\n",
    "        return 1\n",
    "    else:\n",
    "        return num * factorial(num - 1)\n",
    "    \n",
    "main()"
   ]
  },
  {
   "cell_type": "code",
   "execution_count": null,
   "id": "444762b1",
   "metadata": {},
   "outputs": [
    {
     "name": "stdout",
     "output_type": "stream",
     "text": [
      "The first 50 numbers in the Fibonacci Series are: \n",
      "1\n",
      "1\n",
      "2\n",
      "3\n",
      "5\n",
      "8\n",
      "13\n",
      "21\n",
      "34\n",
      "55\n",
      "89\n",
      "144\n",
      "233\n",
      "377\n",
      "610\n",
      "987\n",
      "1597\n",
      "2584\n",
      "4181\n",
      "6765\n",
      "10946\n",
      "17711\n",
      "28657\n",
      "46368\n",
      "75025\n",
      "121393\n",
      "196418\n",
      "317811\n",
      "514229\n",
      "832040\n",
      "1346269\n",
      "2178309\n",
      "3524578\n",
      "5702887\n",
      "9227465\n",
      "14930352\n",
      "24157817\n",
      "39088169\n",
      "63245986\n",
      "102334155\n",
      "165580141\n",
      "267914296\n",
      "433494437\n",
      "701408733\n",
      "1134903170\n",
      "1836311903\n",
      "2971215073\n"
     ]
    }
   ],
   "source": [
    "def main():\n",
    "    print('The first 50 numbers in the Fibonacci Series are: ')\n",
    "    \n",
    "    for number in range(1, 51):\n",
    "        print(fib(number))\n",
    "        \n",
    "def fib(n):\n",
    "    if n == 0:\n",
    "        return 0\n",
    "    elif n == 1:\n",
    "        return 1\n",
    "    else:\n",
    "        return fib(n - 1) + fib(n - 2)\n",
    "    \n",
    "main()"
   ]
  },
  {
   "cell_type": "code",
   "execution_count": null,
   "id": "0b1061c9",
   "metadata": {},
   "outputs": [],
   "source": []
  }
 ],
 "metadata": {
  "kernelspec": {
   "display_name": "Python 3 (ipykernel)",
   "language": "python",
   "name": "python3"
  },
  "language_info": {
   "codemirror_mode": {
    "name": "ipython",
    "version": 3
   },
   "file_extension": ".py",
   "mimetype": "text/x-python",
   "name": "python",
   "nbconvert_exporter": "python",
   "pygments_lexer": "ipython3",
   "version": "3.9.13"
  }
 },
 "nbformat": 4,
 "nbformat_minor": 5
}
